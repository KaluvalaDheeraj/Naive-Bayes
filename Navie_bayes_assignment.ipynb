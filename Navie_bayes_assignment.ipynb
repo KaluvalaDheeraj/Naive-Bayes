{
 "cells": [
  {
   "cell_type": "markdown",
   "metadata": {
    "colab_type": "text",
    "id": "CAwOZ4nDZ9xP"
   },
   "source": [
    "# Navie Bayes Assignment"
   ]
  },
  {
   "cell_type": "code",
   "execution_count": 0,
   "metadata": {
    "colab": {},
    "colab_type": "code",
    "id": "FIB4b4O8PAnM"
   },
   "outputs": [],
   "source": [
    "%matplotlib inline\n",
    "import warnings\n",
    "warnings.filterwarnings(\"ignore\")\n",
    "\n",
    "\n",
    "import sqlite3\n",
    "import pandas as pd\n",
    "import numpy as np\n",
    "import nltk\n",
    "import string\n",
    "import matplotlib.pyplot as plt\n",
    "import seaborn as sns\n",
    "from sklearn.feature_extraction.text import TfidfTransformer\n",
    "from sklearn.feature_extraction.text import TfidfVectorizer\n",
    "\n",
    "from sklearn.feature_extraction.text import CountVectorizer\n",
    "from sklearn.metrics import confusion_matrix\n",
    "from sklearn import metrics\n",
    "from sklearn.metrics import roc_curve, auc\n",
    "from nltk.stem.porter import PorterStemmer\n",
    "\n",
    "import re\n",
    "# Tutorial about Python regular expressions: https://pymotw.com/2/re/\n",
    "import string\n",
    "from nltk.corpus import stopwords\n",
    "from nltk.stem import PorterStemmer\n",
    "from nltk.stem.wordnet import WordNetLemmatizer\n",
    "\n",
    "from gensim.models import Word2Vec\n",
    "from gensim.models import KeyedVectors\n",
    "import pickle\n",
    "\n",
    "from tqdm import tqdm\n",
    "import os"
   ]
  },
  {
   "cell_type": "code",
   "execution_count": 3,
   "metadata": {
    "colab": {
     "base_uri": "https://localhost:8080/",
     "height": 244
    },
    "colab_type": "code",
    "id": "PAjkPZFZPAnf",
    "outputId": "85f7314f-c0de-429f-e767-b0aab08cea4e"
   },
   "outputs": [
    {
     "name": "stdout",
     "output_type": "stream",
     "text": [
      "Number of data points in our data (200000, 10)\n"
     ]
    },
    {
     "data": {
      "text/html": [
       "<div>\n",
       "<style scoped>\n",
       "    .dataframe tbody tr th:only-of-type {\n",
       "        vertical-align: middle;\n",
       "    }\n",
       "\n",
       "    .dataframe tbody tr th {\n",
       "        vertical-align: top;\n",
       "    }\n",
       "\n",
       "    .dataframe thead th {\n",
       "        text-align: right;\n",
       "    }\n",
       "</style>\n",
       "<table border=\"1\" class=\"dataframe\">\n",
       "  <thead>\n",
       "    <tr style=\"text-align: right;\">\n",
       "      <th></th>\n",
       "      <th>Id</th>\n",
       "      <th>ProductId</th>\n",
       "      <th>UserId</th>\n",
       "      <th>ProfileName</th>\n",
       "      <th>HelpfulnessNumerator</th>\n",
       "      <th>HelpfulnessDenominator</th>\n",
       "      <th>Score</th>\n",
       "      <th>Time</th>\n",
       "      <th>Summary</th>\n",
       "      <th>Text</th>\n",
       "    </tr>\n",
       "  </thead>\n",
       "  <tbody>\n",
       "    <tr>\n",
       "      <th>0</th>\n",
       "      <td>1</td>\n",
       "      <td>B001E4KFG0</td>\n",
       "      <td>A3SGXH7AUHU8GW</td>\n",
       "      <td>delmartian</td>\n",
       "      <td>1</td>\n",
       "      <td>1</td>\n",
       "      <td>1</td>\n",
       "      <td>1303862400</td>\n",
       "      <td>Good Quality Dog Food</td>\n",
       "      <td>I have bought several of the Vitality canned d...</td>\n",
       "    </tr>\n",
       "    <tr>\n",
       "      <th>1</th>\n",
       "      <td>2</td>\n",
       "      <td>B00813GRG4</td>\n",
       "      <td>A1D87F6ZCVE5NK</td>\n",
       "      <td>dll pa</td>\n",
       "      <td>0</td>\n",
       "      <td>0</td>\n",
       "      <td>0</td>\n",
       "      <td>1346976000</td>\n",
       "      <td>Not as Advertised</td>\n",
       "      <td>Product arrived labeled as Jumbo Salted Peanut...</td>\n",
       "    </tr>\n",
       "    <tr>\n",
       "      <th>2</th>\n",
       "      <td>3</td>\n",
       "      <td>B000LQOCH0</td>\n",
       "      <td>ABXLMWJIXXAIN</td>\n",
       "      <td>Natalia Corres \"Natalia Corres\"</td>\n",
       "      <td>1</td>\n",
       "      <td>1</td>\n",
       "      <td>1</td>\n",
       "      <td>1219017600</td>\n",
       "      <td>\"Delight\" says it all</td>\n",
       "      <td>This is a confection that has been around a fe...</td>\n",
       "    </tr>\n",
       "  </tbody>\n",
       "</table>\n",
       "</div>"
      ],
      "text/plain": [
       "   Id   ProductId          UserId                      ProfileName  \\\n",
       "0   1  B001E4KFG0  A3SGXH7AUHU8GW                       delmartian   \n",
       "1   2  B00813GRG4  A1D87F6ZCVE5NK                           dll pa   \n",
       "2   3  B000LQOCH0   ABXLMWJIXXAIN  Natalia Corres \"Natalia Corres\"   \n",
       "\n",
       "   HelpfulnessNumerator  HelpfulnessDenominator  Score        Time  \\\n",
       "0                     1                       1      1  1303862400   \n",
       "1                     0                       0      0  1346976000   \n",
       "2                     1                       1      1  1219017600   \n",
       "\n",
       "                 Summary                                               Text  \n",
       "0  Good Quality Dog Food  I have bought several of the Vitality canned d...  \n",
       "1      Not as Advertised  Product arrived labeled as Jumbo Salted Peanut...  \n",
       "2  \"Delight\" says it all  This is a confection that has been around a fe...  "
      ]
     },
     "execution_count": 3,
     "metadata": {
      "tags": []
     },
     "output_type": "execute_result"
    }
   ],
   "source": [
    "\n",
    "# using SQLite Table to read data.\n",
    "con = sqlite3.connect('/content/drive/My Drive/database.sqlite') \n",
    "\n",
    "# filtering only positive and negative reviews i.e. \n",
    "# not taking into consideration those reviews with Score=3\n",
    "# SELECT * FROM Reviews WHERE Score != 3 LIMIT 500000, will give top 500000 data points\n",
    "# you can change the number to any other number based on your computing power\n",
    "\n",
    "# filtered_data = pd.read_sql_query(\"\"\" SELECT * FROM Reviews WHERE Score != 3 LIMIT 500000\"\"\", con) \n",
    "# for tsne assignment you can take 5k data points\n",
    "\n",
    "filtered_data = pd.read_sql_query(\"\"\" SELECT * FROM Reviews WHERE Score != 3 LIMIT 200000 \"\"\", con) \n",
    "\n",
    "# Give reviews with Score>3 a positive rating(1), and reviews with a score<3 a negative rating(0).\n",
    "def partition(x):\n",
    "    if x < 3:\n",
    "        return 0\n",
    "    return 1\n",
    "\n",
    "#changing reviews with score less than 3 to be positive and vice-versa\n",
    "actualScore = filtered_data['Score']\n",
    "positiveNegative = actualScore.map(partition) \n",
    "filtered_data['Score'] = positiveNegative\n",
    "print(\"Number of data points in our data\", filtered_data.shape)\n",
    "filtered_data.head(3)\n"
   ]
  },
  {
   "cell_type": "code",
   "execution_count": 0,
   "metadata": {
    "colab": {},
    "colab_type": "code",
    "id": "4DpY1Sn1PAnw"
   },
   "outputs": [],
   "source": [
    "display = pd.read_sql_query(\"\"\"\n",
    "SELECT UserId, ProductId, ProfileName, Time, Score, Text, COUNT(*)\n",
    "FROM Reviews\n",
    "GROUP BY UserId\n",
    "HAVING COUNT(*)>1\n",
    "\"\"\", con)"
   ]
  },
  {
   "cell_type": "code",
   "execution_count": 5,
   "metadata": {
    "colab": {
     "base_uri": "https://localhost:8080/",
     "height": 128
    },
    "colab_type": "code",
    "id": "4drHt7N8PAn5",
    "outputId": "be7bf5dc-bda8-4bb6-972c-33ee1aa2a278",
    "scrolled": true
   },
   "outputs": [
    {
     "name": "stdout",
     "output_type": "stream",
     "text": [
      "(80668, 7)\n"
     ]
    },
    {
     "data": {
      "text/html": [
       "<div>\n",
       "<style scoped>\n",
       "    .dataframe tbody tr th:only-of-type {\n",
       "        vertical-align: middle;\n",
       "    }\n",
       "\n",
       "    .dataframe tbody tr th {\n",
       "        vertical-align: top;\n",
       "    }\n",
       "\n",
       "    .dataframe thead th {\n",
       "        text-align: right;\n",
       "    }\n",
       "</style>\n",
       "<table border=\"1\" class=\"dataframe\">\n",
       "  <thead>\n",
       "    <tr style=\"text-align: right;\">\n",
       "      <th></th>\n",
       "      <th>UserId</th>\n",
       "      <th>ProductId</th>\n",
       "      <th>ProfileName</th>\n",
       "      <th>Time</th>\n",
       "      <th>Score</th>\n",
       "      <th>Text</th>\n",
       "      <th>COUNT(*)</th>\n",
       "    </tr>\n",
       "  </thead>\n",
       "  <tbody>\n",
       "    <tr>\n",
       "      <th>0</th>\n",
       "      <td>#oc-R115TNMSPFT9I7</td>\n",
       "      <td>B007Y59HVM</td>\n",
       "      <td>Breyton</td>\n",
       "      <td>1331510400</td>\n",
       "      <td>2</td>\n",
       "      <td>Overall its just OK when considering the price...</td>\n",
       "      <td>2</td>\n",
       "    </tr>\n",
       "    <tr>\n",
       "      <th>1</th>\n",
       "      <td>#oc-R11D9D7SHXIJB9</td>\n",
       "      <td>B005HG9ET0</td>\n",
       "      <td>Louis E. Emory \"hoppy\"</td>\n",
       "      <td>1342396800</td>\n",
       "      <td>5</td>\n",
       "      <td>My wife has recurring extreme muscle spasms, u...</td>\n",
       "      <td>3</td>\n",
       "    </tr>\n",
       "  </tbody>\n",
       "</table>\n",
       "</div>"
      ],
      "text/plain": [
       "               UserId   ProductId             ProfileName        Time  Score  \\\n",
       "0  #oc-R115TNMSPFT9I7  B007Y59HVM                 Breyton  1331510400      2   \n",
       "1  #oc-R11D9D7SHXIJB9  B005HG9ET0  Louis E. Emory \"hoppy\"  1342396800      5   \n",
       "\n",
       "                                                Text  COUNT(*)  \n",
       "0  Overall its just OK when considering the price...         2  \n",
       "1  My wife has recurring extreme muscle spasms, u...         3  "
      ]
     },
     "execution_count": 5,
     "metadata": {
      "tags": []
     },
     "output_type": "execute_result"
    }
   ],
   "source": [
    "print(display.shape)\n",
    "display.head(2)"
   ]
  },
  {
   "cell_type": "code",
   "execution_count": 6,
   "metadata": {
    "colab": {
     "base_uri": "https://localhost:8080/",
     "height": 80
    },
    "colab_type": "code",
    "id": "k2xylM8LPAoE",
    "outputId": "0f862aae-8eca-48cf-83ca-8716d58d266e"
   },
   "outputs": [
    {
     "data": {
      "text/html": [
       "<div>\n",
       "<style scoped>\n",
       "    .dataframe tbody tr th:only-of-type {\n",
       "        vertical-align: middle;\n",
       "    }\n",
       "\n",
       "    .dataframe tbody tr th {\n",
       "        vertical-align: top;\n",
       "    }\n",
       "\n",
       "    .dataframe thead th {\n",
       "        text-align: right;\n",
       "    }\n",
       "</style>\n",
       "<table border=\"1\" class=\"dataframe\">\n",
       "  <thead>\n",
       "    <tr style=\"text-align: right;\">\n",
       "      <th></th>\n",
       "      <th>UserId</th>\n",
       "      <th>ProductId</th>\n",
       "      <th>ProfileName</th>\n",
       "      <th>Time</th>\n",
       "      <th>Score</th>\n",
       "      <th>Text</th>\n",
       "      <th>COUNT(*)</th>\n",
       "    </tr>\n",
       "  </thead>\n",
       "  <tbody>\n",
       "    <tr>\n",
       "      <th>80638</th>\n",
       "      <td>AZY10LLTJ71NX</td>\n",
       "      <td>B006P7E5ZI</td>\n",
       "      <td>undertheshrine \"undertheshrine\"</td>\n",
       "      <td>1334707200</td>\n",
       "      <td>5</td>\n",
       "      <td>I was recommended to try green tea extract to ...</td>\n",
       "      <td>5</td>\n",
       "    </tr>\n",
       "  </tbody>\n",
       "</table>\n",
       "</div>"
      ],
      "text/plain": [
       "              UserId   ProductId                      ProfileName        Time  \\\n",
       "80638  AZY10LLTJ71NX  B006P7E5ZI  undertheshrine \"undertheshrine\"  1334707200   \n",
       "\n",
       "       Score                                               Text  COUNT(*)  \n",
       "80638      5  I was recommended to try green tea extract to ...         5  "
      ]
     },
     "execution_count": 6,
     "metadata": {
      "tags": []
     },
     "output_type": "execute_result"
    }
   ],
   "source": [
    "display[display['UserId']=='AZY10LLTJ71NX']"
   ]
  },
  {
   "cell_type": "code",
   "execution_count": 7,
   "metadata": {
    "colab": {
     "base_uri": "https://localhost:8080/",
     "height": 34
    },
    "colab_type": "code",
    "id": "ZBvTLKVCPAoP",
    "outputId": "60c06cf0-e28f-4c9d-d33a-6cb24e0e95e1"
   },
   "outputs": [
    {
     "data": {
      "text/plain": [
       "393063"
      ]
     },
     "execution_count": 7,
     "metadata": {
      "tags": []
     },
     "output_type": "execute_result"
    }
   ],
   "source": [
    "display['COUNT(*)'].sum()"
   ]
  },
  {
   "cell_type": "markdown",
   "metadata": {
    "colab_type": "text",
    "id": "KmH8-TBNPAoe"
   },
   "source": [
    "##  Data Cleaning: Deduplication\n",
    "\n",
    "It is observed (as shown in the table below) that the reviews data had many duplicate entries. Hence it was necessary to remove duplicates in order to get unbiased results for the analysis of the data.  Following is an example:"
   ]
  },
  {
   "cell_type": "code",
   "execution_count": 8,
   "metadata": {
    "colab": {
     "base_uri": "https://localhost:8080/",
     "height": 459
    },
    "colab_type": "code",
    "id": "XYIwDDg8PAog",
    "outputId": "0fd2565a-41d2-42eb-e7dc-3499cbd2beef",
    "scrolled": false
   },
   "outputs": [
    {
     "data": {
      "text/html": [
       "<div>\n",
       "<style scoped>\n",
       "    .dataframe tbody tr th:only-of-type {\n",
       "        vertical-align: middle;\n",
       "    }\n",
       "\n",
       "    .dataframe tbody tr th {\n",
       "        vertical-align: top;\n",
       "    }\n",
       "\n",
       "    .dataframe thead th {\n",
       "        text-align: right;\n",
       "    }\n",
       "</style>\n",
       "<table border=\"1\" class=\"dataframe\">\n",
       "  <thead>\n",
       "    <tr style=\"text-align: right;\">\n",
       "      <th></th>\n",
       "      <th>Id</th>\n",
       "      <th>ProductId</th>\n",
       "      <th>UserId</th>\n",
       "      <th>ProfileName</th>\n",
       "      <th>HelpfulnessNumerator</th>\n",
       "      <th>HelpfulnessDenominator</th>\n",
       "      <th>Score</th>\n",
       "      <th>Time</th>\n",
       "      <th>Summary</th>\n",
       "      <th>Text</th>\n",
       "    </tr>\n",
       "  </thead>\n",
       "  <tbody>\n",
       "    <tr>\n",
       "      <th>0</th>\n",
       "      <td>78445</td>\n",
       "      <td>B000HDL1RQ</td>\n",
       "      <td>AR5J8UI46CURR</td>\n",
       "      <td>Geetha Krishnan</td>\n",
       "      <td>2</td>\n",
       "      <td>2</td>\n",
       "      <td>5</td>\n",
       "      <td>1199577600</td>\n",
       "      <td>LOACKER QUADRATINI VANILLA WAFERS</td>\n",
       "      <td>DELICIOUS WAFERS. I FIND THAT EUROPEAN WAFERS ...</td>\n",
       "    </tr>\n",
       "    <tr>\n",
       "      <th>1</th>\n",
       "      <td>138317</td>\n",
       "      <td>B000HDOPYC</td>\n",
       "      <td>AR5J8UI46CURR</td>\n",
       "      <td>Geetha Krishnan</td>\n",
       "      <td>2</td>\n",
       "      <td>2</td>\n",
       "      <td>5</td>\n",
       "      <td>1199577600</td>\n",
       "      <td>LOACKER QUADRATINI VANILLA WAFERS</td>\n",
       "      <td>DELICIOUS WAFERS. I FIND THAT EUROPEAN WAFERS ...</td>\n",
       "    </tr>\n",
       "    <tr>\n",
       "      <th>2</th>\n",
       "      <td>138277</td>\n",
       "      <td>B000HDOPYM</td>\n",
       "      <td>AR5J8UI46CURR</td>\n",
       "      <td>Geetha Krishnan</td>\n",
       "      <td>2</td>\n",
       "      <td>2</td>\n",
       "      <td>5</td>\n",
       "      <td>1199577600</td>\n",
       "      <td>LOACKER QUADRATINI VANILLA WAFERS</td>\n",
       "      <td>DELICIOUS WAFERS. I FIND THAT EUROPEAN WAFERS ...</td>\n",
       "    </tr>\n",
       "    <tr>\n",
       "      <th>3</th>\n",
       "      <td>73791</td>\n",
       "      <td>B000HDOPZG</td>\n",
       "      <td>AR5J8UI46CURR</td>\n",
       "      <td>Geetha Krishnan</td>\n",
       "      <td>2</td>\n",
       "      <td>2</td>\n",
       "      <td>5</td>\n",
       "      <td>1199577600</td>\n",
       "      <td>LOACKER QUADRATINI VANILLA WAFERS</td>\n",
       "      <td>DELICIOUS WAFERS. I FIND THAT EUROPEAN WAFERS ...</td>\n",
       "    </tr>\n",
       "    <tr>\n",
       "      <th>4</th>\n",
       "      <td>155049</td>\n",
       "      <td>B000PAQ75C</td>\n",
       "      <td>AR5J8UI46CURR</td>\n",
       "      <td>Geetha Krishnan</td>\n",
       "      <td>2</td>\n",
       "      <td>2</td>\n",
       "      <td>5</td>\n",
       "      <td>1199577600</td>\n",
       "      <td>LOACKER QUADRATINI VANILLA WAFERS</td>\n",
       "      <td>DELICIOUS WAFERS. I FIND THAT EUROPEAN WAFERS ...</td>\n",
       "    </tr>\n",
       "  </tbody>\n",
       "</table>\n",
       "</div>"
      ],
      "text/plain": [
       "       Id   ProductId         UserId      ProfileName  HelpfulnessNumerator  \\\n",
       "0   78445  B000HDL1RQ  AR5J8UI46CURR  Geetha Krishnan                     2   \n",
       "1  138317  B000HDOPYC  AR5J8UI46CURR  Geetha Krishnan                     2   \n",
       "2  138277  B000HDOPYM  AR5J8UI46CURR  Geetha Krishnan                     2   \n",
       "3   73791  B000HDOPZG  AR5J8UI46CURR  Geetha Krishnan                     2   \n",
       "4  155049  B000PAQ75C  AR5J8UI46CURR  Geetha Krishnan                     2   \n",
       "\n",
       "   HelpfulnessDenominator  Score        Time  \\\n",
       "0                       2      5  1199577600   \n",
       "1                       2      5  1199577600   \n",
       "2                       2      5  1199577600   \n",
       "3                       2      5  1199577600   \n",
       "4                       2      5  1199577600   \n",
       "\n",
       "                             Summary  \\\n",
       "0  LOACKER QUADRATINI VANILLA WAFERS   \n",
       "1  LOACKER QUADRATINI VANILLA WAFERS   \n",
       "2  LOACKER QUADRATINI VANILLA WAFERS   \n",
       "3  LOACKER QUADRATINI VANILLA WAFERS   \n",
       "4  LOACKER QUADRATINI VANILLA WAFERS   \n",
       "\n",
       "                                                Text  \n",
       "0  DELICIOUS WAFERS. I FIND THAT EUROPEAN WAFERS ...  \n",
       "1  DELICIOUS WAFERS. I FIND THAT EUROPEAN WAFERS ...  \n",
       "2  DELICIOUS WAFERS. I FIND THAT EUROPEAN WAFERS ...  \n",
       "3  DELICIOUS WAFERS. I FIND THAT EUROPEAN WAFERS ...  \n",
       "4  DELICIOUS WAFERS. I FIND THAT EUROPEAN WAFERS ...  "
      ]
     },
     "execution_count": 8,
     "metadata": {
      "tags": []
     },
     "output_type": "execute_result"
    }
   ],
   "source": [
    "display= pd.read_sql_query(\"\"\"\n",
    "SELECT *\n",
    "FROM Reviews\n",
    "WHERE Score != 3 AND UserId=\"AR5J8UI46CURR\"\n",
    "ORDER BY ProductID\n",
    "\"\"\", con)\n",
    "display.head()"
   ]
  },
  {
   "cell_type": "markdown",
   "metadata": {
    "colab_type": "text",
    "id": "FPTfJTdIPAor"
   },
   "source": [
    "As it can be seen above that same user has multiple reviews with same values for HelpfulnessNumerator, HelpfulnessDenominator, Score, Time, Summary and Text and on doing analysis it was found that <br>\n",
    "<br> \n",
    "ProductId=B000HDOPZG was Loacker Quadratini Vanilla Wafer Cookies, 8.82-Ounce Packages (Pack of 8)<br>\n",
    "<br> \n",
    "ProductId=B000HDL1RQ was Loacker Quadratini Lemon Wafer Cookies, 8.82-Ounce Packages (Pack of 8) and so on<br>\n",
    "\n",
    "It was inferred after analysis that reviews with same parameters other than ProductId belonged to the same product just having different flavour or quantity. Hence in order to reduce redundancy it was decided to eliminate the rows having same parameters.<br>\n",
    "\n",
    "The method used for the same was that we first sort the data according to ProductId and then just keep the first similar product review and delelte the others. for eg. in the above just the review for ProductId=B000HDL1RQ remains. This method ensures that there is only one representative for each product and deduplication without sorting would lead to possibility of different representatives still existing for the same product."
   ]
  },
  {
   "cell_type": "code",
   "execution_count": 0,
   "metadata": {
    "colab": {},
    "colab_type": "code",
    "id": "86XXmXWkPAov"
   },
   "outputs": [],
   "source": [
    "#Sorting data according to ProductId in ascending order\n",
    "sorted_data=filtered_data.sort_values('ProductId', axis=0, ascending=True, inplace=False, kind='quicksort', na_position='last')"
   ]
  },
  {
   "cell_type": "code",
   "execution_count": 10,
   "metadata": {
    "colab": {
     "base_uri": "https://localhost:8080/",
     "height": 34
    },
    "colab_type": "code",
    "id": "SRtNNovfPAo6",
    "outputId": "7c45a970-f03e-4554-a310-0aca1ad0f7e5"
   },
   "outputs": [
    {
     "data": {
      "text/plain": [
       "(160178, 10)"
      ]
     },
     "execution_count": 10,
     "metadata": {
      "tags": []
     },
     "output_type": "execute_result"
    }
   ],
   "source": [
    "#Deduplication of entries\n",
    "final=sorted_data.drop_duplicates(subset={\"UserId\",\"ProfileName\",\"Time\",\"Text\"}, keep='first', inplace=False)\n",
    "final.shape"
   ]
  },
  {
   "cell_type": "code",
   "execution_count": 11,
   "metadata": {
    "colab": {
     "base_uri": "https://localhost:8080/",
     "height": 34
    },
    "colab_type": "code",
    "id": "O73rZTy9PApK",
    "outputId": "3129490a-d398-4b92-929a-eea55e6bf01a"
   },
   "outputs": [
    {
     "data": {
      "text/plain": [
       "80.089"
      ]
     },
     "execution_count": 11,
     "metadata": {
      "tags": []
     },
     "output_type": "execute_result"
    }
   ],
   "source": [
    "#Checking to see how much % of data still remains\n",
    "(final['Id'].size*1.0)/(filtered_data['Id'].size*1.0)*100"
   ]
  },
  {
   "cell_type": "markdown",
   "metadata": {
    "colab_type": "text",
    "id": "s8cjQ-nsPAph"
   },
   "source": [
    "<b>Observation:-</b> It was also seen that in two rows given below the value of HelpfulnessNumerator is greater than HelpfulnessDenominator which is not practically possible hence these two rows too are removed from calcualtions"
   ]
  },
  {
   "cell_type": "code",
   "execution_count": 12,
   "metadata": {
    "colab": {
     "base_uri": "https://localhost:8080/",
     "height": 179
    },
    "colab_type": "code",
    "id": "CV2Kqu3LPApl",
    "outputId": "57467f8d-379f-4376-bcf3-be2db89aa3c6"
   },
   "outputs": [
    {
     "data": {
      "text/html": [
       "<div>\n",
       "<style scoped>\n",
       "    .dataframe tbody tr th:only-of-type {\n",
       "        vertical-align: middle;\n",
       "    }\n",
       "\n",
       "    .dataframe tbody tr th {\n",
       "        vertical-align: top;\n",
       "    }\n",
       "\n",
       "    .dataframe thead th {\n",
       "        text-align: right;\n",
       "    }\n",
       "</style>\n",
       "<table border=\"1\" class=\"dataframe\">\n",
       "  <thead>\n",
       "    <tr style=\"text-align: right;\">\n",
       "      <th></th>\n",
       "      <th>Id</th>\n",
       "      <th>ProductId</th>\n",
       "      <th>UserId</th>\n",
       "      <th>ProfileName</th>\n",
       "      <th>HelpfulnessNumerator</th>\n",
       "      <th>HelpfulnessDenominator</th>\n",
       "      <th>Score</th>\n",
       "      <th>Time</th>\n",
       "      <th>Summary</th>\n",
       "      <th>Text</th>\n",
       "    </tr>\n",
       "  </thead>\n",
       "  <tbody>\n",
       "    <tr>\n",
       "      <th>0</th>\n",
       "      <td>64422</td>\n",
       "      <td>B000MIDROQ</td>\n",
       "      <td>A161DK06JJMCYF</td>\n",
       "      <td>J. E. Stephens \"Jeanne\"</td>\n",
       "      <td>3</td>\n",
       "      <td>1</td>\n",
       "      <td>5</td>\n",
       "      <td>1224892800</td>\n",
       "      <td>Bought This for My Son at College</td>\n",
       "      <td>My son loves spaghetti so I didn't hesitate or...</td>\n",
       "    </tr>\n",
       "    <tr>\n",
       "      <th>1</th>\n",
       "      <td>44737</td>\n",
       "      <td>B001EQ55RW</td>\n",
       "      <td>A2V0I904FH7ABY</td>\n",
       "      <td>Ram</td>\n",
       "      <td>3</td>\n",
       "      <td>2</td>\n",
       "      <td>4</td>\n",
       "      <td>1212883200</td>\n",
       "      <td>Pure cocoa taste with crunchy almonds inside</td>\n",
       "      <td>It was almost a 'love at first bite' - the per...</td>\n",
       "    </tr>\n",
       "  </tbody>\n",
       "</table>\n",
       "</div>"
      ],
      "text/plain": [
       "      Id   ProductId          UserId              ProfileName  \\\n",
       "0  64422  B000MIDROQ  A161DK06JJMCYF  J. E. Stephens \"Jeanne\"   \n",
       "1  44737  B001EQ55RW  A2V0I904FH7ABY                      Ram   \n",
       "\n",
       "   HelpfulnessNumerator  HelpfulnessDenominator  Score        Time  \\\n",
       "0                     3                       1      5  1224892800   \n",
       "1                     3                       2      4  1212883200   \n",
       "\n",
       "                                        Summary  \\\n",
       "0             Bought This for My Son at College   \n",
       "1  Pure cocoa taste with crunchy almonds inside   \n",
       "\n",
       "                                                Text  \n",
       "0  My son loves spaghetti so I didn't hesitate or...  \n",
       "1  It was almost a 'love at first bite' - the per...  "
      ]
     },
     "execution_count": 12,
     "metadata": {
      "tags": []
     },
     "output_type": "execute_result"
    }
   ],
   "source": [
    "display= pd.read_sql_query(\"\"\"\n",
    "SELECT *\n",
    "FROM Reviews\n",
    "WHERE Score != 3 AND Id=44737 OR Id=64422\n",
    "ORDER BY ProductID\n",
    "\"\"\", con)\n",
    "\n",
    "display.head(2)"
   ]
  },
  {
   "cell_type": "code",
   "execution_count": 0,
   "metadata": {
    "colab": {},
    "colab_type": "code",
    "id": "8c7KdHVyPAp4"
   },
   "outputs": [],
   "source": [
    "final=final[final.HelpfulnessNumerator<=final.HelpfulnessDenominator]"
   ]
  },
  {
   "cell_type": "code",
   "execution_count": 14,
   "metadata": {
    "colab": {
     "base_uri": "https://localhost:8080/",
     "height": 85
    },
    "colab_type": "code",
    "id": "kXz8EUxkPAqH",
    "outputId": "c162ca51-36eb-4b56-90d5-7ecdf967e6ec"
   },
   "outputs": [
    {
     "name": "stdout",
     "output_type": "stream",
     "text": [
      "(160176, 10)\n"
     ]
    },
    {
     "data": {
      "text/plain": [
       "1    134799\n",
       "0     25377\n",
       "Name: Score, dtype: int64"
      ]
     },
     "execution_count": 14,
     "metadata": {
      "tags": []
     },
     "output_type": "execute_result"
    }
   ],
   "source": [
    "#Before starting the next phase of preprocessing lets see the number of entries left\n",
    "print(final.shape)\n",
    "\n",
    "#How many positive and negative reviews are present in our dataset?\n",
    "final['Score'].value_counts()"
   ]
  },
  {
   "cell_type": "markdown",
   "metadata": {
    "colab_type": "text",
    "id": "IG_2KVn1PAqc"
   },
   "source": [
    "## Preprocessing"
   ]
  },
  {
   "cell_type": "code",
   "execution_count": 15,
   "metadata": {
    "colab": {
     "base_uri": "https://localhost:8080/",
     "height": 173
    },
    "colab_type": "code",
    "id": "LoZ-1a-NPAqj",
    "outputId": "32b1a870-a755-4d46-a14d-bdf076c50646"
   },
   "outputs": [
    {
     "name": "stdout",
     "output_type": "stream",
     "text": [
      "I remembered this book from my childhood and got it for my kids.  It's just as good as I remembered and my kids love it too.  My older daughter now reads it to her sister.  Good rhymes and nice pictures.\n",
      "==================================================\n",
      "The qualitys not as good as the lamb and rice but it didn't seem to bother his stomach, you get 10 more pounds and it is cheaper wich is a plus for me. You can always ad your own rice and veggies. Its fresher that way and better for him in my opinion. Plus if you you can get it deliverd to your house for free its even better.  Gotta love pitbulls\n",
      "==================================================\n",
      "This is the Japanese version of breadcrumb (pan=bread, a Portuguese loan-word, and&quot;ko-&quot;  is &quot;child of&quot; or of &quot;derived from&quot;.) Panko are used for katsudon, tonkatsu or cutlets served on rice or in soups. The cutlets, pounded chicken or pork, are coated with these light and crispy crumbs and fried. They are not gritty and dense like regular crumbs. They are very nice on deep fried shrimps and decorative for a more gourmet touch.\n",
      "==================================================\n",
      "What can I say... If Douwe Egberts was good enough for my dutch grandmother, it's perfect for me.  I like this flavor best with my Senseo... It has a nice dark full body flavor without the burt bean taste I tend sense with starbucks.  It's a shame most americans haven't bought into single serve coffe makers as our Dutch counter parts have.  Every cup is fresh brewed and doesn't sit long enough on my desk to get that old taste either.\n",
      "==================================================\n"
     ]
    }
   ],
   "source": [
    "# printing some random reviews\n",
    "sent_0 = final['Text'].values[0]\n",
    "print(sent_0)\n",
    "print(\"=\"*50)\n",
    "\n",
    "sent_1000 = final['Text'].values[1000]\n",
    "print(sent_1000)\n",
    "print(\"=\"*50)\n",
    "\n",
    "sent_1500 = final['Text'].values[1500]\n",
    "print(sent_1500)\n",
    "print(\"=\"*50)\n",
    "\n",
    "sent_4900 = final['Text'].values[4900]\n",
    "print(sent_4900)\n",
    "print(\"=\"*50)"
   ]
  },
  {
   "cell_type": "code",
   "execution_count": 16,
   "metadata": {
    "colab": {
     "base_uri": "https://localhost:8080/",
     "height": 54
    },
    "colab_type": "code",
    "id": "LM1-WYdKPAq5",
    "outputId": "50b16bc3-21ae-4c86-bdbe-e0c23cb29535"
   },
   "outputs": [
    {
     "name": "stdout",
     "output_type": "stream",
     "text": [
      "I remembered this book from my childhood and got it for my kids.  It's just as good as I remembered and my kids love it too.  My older daughter now reads it to her sister.  Good rhymes and nice pictures.\n"
     ]
    }
   ],
   "source": [
    "# remove urls from text python: https://stackoverflow.com/a/40823105/4084039\n",
    "sent_0 = re.sub(r\"http\\S+\", \"\", sent_0)\n",
    "sent_1000 = re.sub(r\"http\\S+\", \"\", sent_1000)\n",
    "sent_150 = re.sub(r\"http\\S+\", \"\", sent_1500)\n",
    "sent_4900 = re.sub(r\"http\\S+\", \"\", sent_4900)\n",
    "\n",
    "print(sent_0)"
   ]
  },
  {
   "cell_type": "code",
   "execution_count": 17,
   "metadata": {
    "colab": {
     "base_uri": "https://localhost:8080/",
     "height": 156
    },
    "colab_type": "code",
    "id": "5Csy037DPArJ",
    "outputId": "e3381cc9-745d-48b2-ca16-ef11cb233a6e"
   },
   "outputs": [
    {
     "name": "stdout",
     "output_type": "stream",
     "text": [
      "I remembered this book from my childhood and got it for my kids.  It's just as good as I remembered and my kids love it too.  My older daughter now reads it to her sister.  Good rhymes and nice pictures.\n",
      "==================================================\n",
      "The qualitys not as good as the lamb and rice but it didn't seem to bother his stomach, you get 10 more pounds and it is cheaper wich is a plus for me. You can always ad your own rice and veggies. Its fresher that way and better for him in my opinion. Plus if you you can get it deliverd to your house for free its even better.  Gotta love pitbulls\n",
      "==================================================\n",
      "This is the Japanese version of breadcrumb (pan=bread, a Portuguese loan-word, and\"ko-\"  is \"child of\" or of \"derived from\".) Panko are used for katsudon, tonkatsu or cutlets served on rice or in soups. The cutlets, pounded chicken or pork, are coated with these light and crispy crumbs and fried. They are not gritty and dense like regular crumbs. They are very nice on deep fried shrimps and decorative for a more gourmet touch.\n",
      "==================================================\n",
      "What can I say... If Douwe Egberts was good enough for my dutch grandmother, it's perfect for me.  I like this flavor best with my Senseo... It has a nice dark full body flavor without the burt bean taste I tend sense with starbucks.  It's a shame most americans haven't bought into single serve coffe makers as our Dutch counter parts have.  Every cup is fresh brewed and doesn't sit long enough on my desk to get that old taste either.\n"
     ]
    }
   ],
   "source": [
    "# https://stackoverflow.com/questions/16206380/python-beautifulsoup-how-to-remove-all-tags-from-an-element\n",
    "from bs4 import BeautifulSoup\n",
    "\n",
    "soup = BeautifulSoup(sent_0, 'lxml')\n",
    "text = soup.get_text()\n",
    "print(text)\n",
    "print(\"=\"*50)\n",
    "\n",
    "soup = BeautifulSoup(sent_1000, 'lxml')\n",
    "text = soup.get_text()\n",
    "print(text)\n",
    "print(\"=\"*50)\n",
    "\n",
    "soup = BeautifulSoup(sent_1500, 'lxml')\n",
    "text = soup.get_text()\n",
    "print(text)\n",
    "print(\"=\"*50)\n",
    "\n",
    "soup = BeautifulSoup(sent_4900, 'lxml')\n",
    "text = soup.get_text()\n",
    "print(text)"
   ]
  },
  {
   "cell_type": "code",
   "execution_count": 0,
   "metadata": {
    "colab": {},
    "colab_type": "code",
    "id": "OvIy2sCcPArU"
   },
   "outputs": [],
   "source": [
    "# https://stackoverflow.com/a/47091490/4084039\n",
    "import re\n",
    "\n",
    "def decontracted(phrase):\n",
    "    # specific\n",
    "    phrase = re.sub(r\"won't\", \"will not\", phrase)\n",
    "    phrase = re.sub(r\"can\\'t\", \"can not\", phrase)\n",
    "\n",
    "    # general\n",
    "    phrase = re.sub(r\"n\\'t\", \" not\", phrase)\n",
    "    phrase = re.sub(r\"\\'re\", \" are\", phrase)\n",
    "    phrase = re.sub(r\"\\'s\", \" is\", phrase)\n",
    "    phrase = re.sub(r\"\\'d\", \" would\", phrase)\n",
    "    phrase = re.sub(r\"\\'ll\", \" will\", phrase)\n",
    "    phrase = re.sub(r\"\\'t\", \" not\", phrase)\n",
    "    phrase = re.sub(r\"\\'ve\", \" have\", phrase)\n",
    "    phrase = re.sub(r\"\\'m\", \" am\", phrase)\n",
    "    return phrase"
   ]
  },
  {
   "cell_type": "code",
   "execution_count": 19,
   "metadata": {
    "colab": {
     "base_uri": "https://localhost:8080/",
     "height": 71
    },
    "colab_type": "code",
    "id": "_AWYLRR1PArf",
    "outputId": "f311c3a6-4470-486f-8168-3b8434829fa2"
   },
   "outputs": [
    {
     "name": "stdout",
     "output_type": "stream",
     "text": [
      "This is the Japanese version of breadcrumb (pan=bread, a Portuguese loan-word, and&quot;ko-&quot;  is &quot;child of&quot; or of &quot;derived from&quot;.) Panko are used for katsudon, tonkatsu or cutlets served on rice or in soups. The cutlets, pounded chicken or pork, are coated with these light and crispy crumbs and fried. They are not gritty and dense like regular crumbs. They are very nice on deep fried shrimps and decorative for a more gourmet touch.\n",
      "==================================================\n"
     ]
    }
   ],
   "source": [
    "sent_1500 = decontracted(sent_1500)\n",
    "print(sent_1500)\n",
    "print(\"=\"*50)"
   ]
  },
  {
   "cell_type": "code",
   "execution_count": 20,
   "metadata": {
    "colab": {
     "base_uri": "https://localhost:8080/",
     "height": 54
    },
    "colab_type": "code",
    "id": "G8f5FQMsPArv",
    "outputId": "0e9f027f-2aea-4158-c9fa-3cd7d92328ef"
   },
   "outputs": [
    {
     "name": "stdout",
     "output_type": "stream",
     "text": [
      "I remembered this book from my childhood and got it for my kids.  It's just as good as I remembered and my kids love it too.  My older daughter now reads it to her sister.  Good rhymes and nice pictures.\n"
     ]
    }
   ],
   "source": [
    "#remove words with numbers python: https://stackoverflow.com/a/18082370/4084039\n",
    "sent_0 = re.sub(\"\\S*\\d\\S*\", \"\", sent_0).strip()\n",
    "print(sent_0)"
   ]
  },
  {
   "cell_type": "code",
   "execution_count": 21,
   "metadata": {
    "colab": {
     "base_uri": "https://localhost:8080/",
     "height": 54
    },
    "colab_type": "code",
    "id": "pdyyuC80PAr9",
    "outputId": "76109a68-0abd-4ac8-dfb2-0206fd57d4dd"
   },
   "outputs": [
    {
     "name": "stdout",
     "output_type": "stream",
     "text": [
      "This is the Japanese version of breadcrumb pan bread a Portuguese loan word and quot ko quot is quot child of quot or of quot derived from quot Panko are used for katsudon tonkatsu or cutlets served on rice or in soups The cutlets pounded chicken or pork are coated with these light and crispy crumbs and fried They are not gritty and dense like regular crumbs They are very nice on deep fried shrimps and decorative for a more gourmet touch \n"
     ]
    }
   ],
   "source": [
    "#remove spacial character: https://stackoverflow.com/a/5843547/4084039\n",
    "sent_1500 = re.sub('[^A-Za-z0-9]+', ' ', sent_1500)\n",
    "print(sent_1500)"
   ]
  },
  {
   "cell_type": "code",
   "execution_count": 0,
   "metadata": {
    "colab": {},
    "colab_type": "code",
    "id": "kGG1dCd3PAsK"
   },
   "outputs": [],
   "source": [
    "# https://gist.github.com/sebleier/554280\n",
    "# we are removing the words from the stop words list: 'no', 'nor', 'not'\n",
    "# <br /><br /> ==> after the above steps, we are getting \"br br\"\n",
    "# we are including them into stop words list\n",
    "# instead of <br /> if we have <br/> these tags would have revmoved in the 1st step\n",
    "\n",
    "stopwords= set(['br', 'the', 'i', 'me', 'my', 'myself', 'we', 'our', 'ours', 'ourselves', 'you', \"you're\", \"you've\",\\\n",
    "            \"you'll\", \"you'd\", 'your', 'yours', 'yourself', 'yourselves', 'he', 'him', 'his', 'himself', \\\n",
    "            'she', \"she's\", 'her', 'hers', 'herself', 'it', \"it's\", 'its', 'itself', 'they', 'them', 'their',\\\n",
    "            'theirs', 'themselves', 'what', 'which', 'who', 'whom', 'this', 'that', \"that'll\", 'these', 'those', \\\n",
    "            'am', 'is', 'are', 'was', 'were', 'be', 'been', 'being', 'have', 'has', 'had', 'having', 'do', 'does', \\\n",
    "            'did', 'doing', 'a', 'an', 'the', 'and', 'but', 'if', 'or', 'because', 'as', 'until', 'while', 'of', \\\n",
    "            'at', 'by', 'for', 'with', 'about', 'against', 'between', 'into', 'through', 'during', 'before', 'after',\\\n",
    "            'above', 'below', 'to', 'from', 'up', 'down', 'in', 'out', 'on', 'off', 'over', 'under', 'again', 'further',\\\n",
    "            'then', 'once', 'here', 'there', 'when', 'where', 'why', 'how', 'all', 'any', 'both', 'each', 'few', 'more',\\\n",
    "            'most', 'other', 'some', 'such', 'only', 'own', 'same', 'so', 'than', 'too', 'very', \\\n",
    "            's', 't', 'can', 'will', 'just', 'don', \"don't\", 'should', \"should've\", 'now', 'd', 'll', 'm', 'o', 're', \\\n",
    "            've', 'y', 'ain', 'aren', \"aren't\", 'couldn', \"couldn't\", 'didn', \"didn't\", 'doesn', \"doesn't\", 'hadn',\\\n",
    "            \"hadn't\", 'hasn', \"hasn't\", 'haven', \"haven't\", 'isn', \"isn't\", 'ma', 'mightn', \"mightn't\", 'mustn',\\\n",
    "            \"mustn't\", 'needn', \"needn't\", 'shan', \"shan't\", 'shouldn', \"shouldn't\", 'wasn', \"wasn't\", 'weren', \"weren't\", \\\n",
    "            'won', \"won't\", 'wouldn', \"wouldn't\"])"
   ]
  },
  {
   "cell_type": "code",
   "execution_count": 23,
   "metadata": {
    "colab": {
     "base_uri": "https://localhost:8080/",
     "height": 34
    },
    "colab_type": "code",
    "id": "5BiQ65YGPAsS",
    "outputId": "6d867e99-debe-426a-fc33-6ccdbcc338b1"
   },
   "outputs": [
    {
     "name": "stderr",
     "output_type": "stream",
     "text": [
      "100%|██████████| 160176/160176 [01:02<00:00, 2542.50it/s]\n"
     ]
    }
   ],
   "source": [
    "import warnings\n",
    "warnings.filterwarnings(\"ignore\")\n",
    "# Combining all the above stundents \n",
    "from tqdm import tqdm\n",
    "preprocessed_reviews = []\n",
    "# tqdm is for printing the status bar\n",
    "for sentance in tqdm(final['Text'].values):\n",
    "    sentance = re.sub(r\"http\\S+\", \"\", sentance)\n",
    "    sentance = BeautifulSoup(sentance, 'lxml').get_text()\n",
    "    sentance = decontracted(sentance)\n",
    "    sentance = re.sub(\"\\S*\\d\\S*\", \"\", sentance).strip()\n",
    "    sentance = re.sub('[^A-Za-z]+', ' ', sentance)\n",
    "    # https://gist.github.com/sebleier/554280\n",
    "    sentance = ' '.join(e.lower() for e in sentance.split() if e.lower() not in stopwords)\n",
    "    preprocessed_reviews.append(sentance.strip())"
   ]
  },
  {
   "cell_type": "code",
   "execution_count": 24,
   "metadata": {
    "colab": {
     "base_uri": "https://localhost:8080/",
     "height": 400
    },
    "colab_type": "code",
    "id": "7a4hyaCqPAsd",
    "outputId": "2ce3fc98-5bfa-49fd-8922-f464cda165b1"
   },
   "outputs": [
    {
     "data": {
      "text/html": [
       "<div>\n",
       "<style scoped>\n",
       "    .dataframe tbody tr th:only-of-type {\n",
       "        vertical-align: middle;\n",
       "    }\n",
       "\n",
       "    .dataframe tbody tr th {\n",
       "        vertical-align: top;\n",
       "    }\n",
       "\n",
       "    .dataframe thead th {\n",
       "        text-align: right;\n",
       "    }\n",
       "</style>\n",
       "<table border=\"1\" class=\"dataframe\">\n",
       "  <thead>\n",
       "    <tr style=\"text-align: right;\">\n",
       "      <th></th>\n",
       "      <th>Id</th>\n",
       "      <th>ProductId</th>\n",
       "      <th>UserId</th>\n",
       "      <th>ProfileName</th>\n",
       "      <th>HelpfulnessNumerator</th>\n",
       "      <th>HelpfulnessDenominator</th>\n",
       "      <th>Score</th>\n",
       "      <th>Time</th>\n",
       "      <th>Summary</th>\n",
       "      <th>Text</th>\n",
       "      <th>CleanedText</th>\n",
       "    </tr>\n",
       "  </thead>\n",
       "  <tbody>\n",
       "    <tr>\n",
       "      <th>138695</th>\n",
       "      <td>150513</td>\n",
       "      <td>0006641040</td>\n",
       "      <td>ASH0DZQQF6AIZ</td>\n",
       "      <td>tessarat</td>\n",
       "      <td>0</td>\n",
       "      <td>0</td>\n",
       "      <td>1</td>\n",
       "      <td>1325721600</td>\n",
       "      <td>A classic</td>\n",
       "      <td>I remembered this book from my childhood and g...</td>\n",
       "      <td>remembered book childhood got kids good rememb...</td>\n",
       "    </tr>\n",
       "    <tr>\n",
       "      <th>138707</th>\n",
       "      <td>150525</td>\n",
       "      <td>0006641040</td>\n",
       "      <td>A2QID6VCFTY51R</td>\n",
       "      <td>Rick</td>\n",
       "      <td>1</td>\n",
       "      <td>2</td>\n",
       "      <td>1</td>\n",
       "      <td>1025481600</td>\n",
       "      <td>In December it will be, my snowman's anniversa...</td>\n",
       "      <td>My daughter loves all the \"Really Rosie\" books...</td>\n",
       "      <td>daughter loves really rosie books introduced r...</td>\n",
       "    </tr>\n",
       "    <tr>\n",
       "      <th>138708</th>\n",
       "      <td>150526</td>\n",
       "      <td>0006641040</td>\n",
       "      <td>A3E9QZFE9KXH8J</td>\n",
       "      <td>R. Mitchell</td>\n",
       "      <td>11</td>\n",
       "      <td>18</td>\n",
       "      <td>0</td>\n",
       "      <td>1129507200</td>\n",
       "      <td>awesome book poor size</td>\n",
       "      <td>This is one of the best children's books ever ...</td>\n",
       "      <td>one best children books ever written mini vers...</td>\n",
       "    </tr>\n",
       "  </tbody>\n",
       "</table>\n",
       "</div>"
      ],
      "text/plain": [
       "            Id   ProductId          UserId  ProfileName  HelpfulnessNumerator  \\\n",
       "138695  150513  0006641040   ASH0DZQQF6AIZ     tessarat                     0   \n",
       "138707  150525  0006641040  A2QID6VCFTY51R         Rick                     1   \n",
       "138708  150526  0006641040  A3E9QZFE9KXH8J  R. Mitchell                    11   \n",
       "\n",
       "        HelpfulnessDenominator  Score        Time  \\\n",
       "138695                       0      1  1325721600   \n",
       "138707                       2      1  1025481600   \n",
       "138708                      18      0  1129507200   \n",
       "\n",
       "                                                  Summary  \\\n",
       "138695                                          A classic   \n",
       "138707  In December it will be, my snowman's anniversa...   \n",
       "138708                             awesome book poor size   \n",
       "\n",
       "                                                     Text  \\\n",
       "138695  I remembered this book from my childhood and g...   \n",
       "138707  My daughter loves all the \"Really Rosie\" books...   \n",
       "138708  This is one of the best children's books ever ...   \n",
       "\n",
       "                                              CleanedText  \n",
       "138695  remembered book childhood got kids good rememb...  \n",
       "138707  daughter loves really rosie books introduced r...  \n",
       "138708  one best children books ever written mini vers...  "
      ]
     },
     "execution_count": 24,
     "metadata": {
      "tags": []
     },
     "output_type": "execute_result"
    }
   ],
   "source": [
    "final['CleanedText']=preprocessed_reviews\n",
    "final.head(3)"
   ]
  },
  {
   "cell_type": "code",
   "execution_count": 25,
   "metadata": {
    "colab": {
     "base_uri": "https://localhost:8080/",
     "height": 68
    },
    "colab_type": "code",
    "id": "VQqGUtNRPAtS",
    "outputId": "5954491c-e434-4054-b5ba-550f1980a64c"
   },
   "outputs": [
    {
     "data": {
      "text/plain": [
       "1    134799\n",
       "0     25377\n",
       "Name: Score, dtype: int64"
      ]
     },
     "execution_count": 25,
     "metadata": {
      "tags": []
     },
     "output_type": "execute_result"
    }
   ],
   "source": [
    "final['Score'].value_counts()"
   ]
  },
  {
   "cell_type": "markdown",
   "metadata": {
    "colab_type": "text",
    "id": "6iIx3-3DPAte"
   },
   "source": [
    "1 as positive <br>\n",
    "0 as negative"
   ]
  },
  {
   "cell_type": "code",
   "execution_count": 0,
   "metadata": {
    "colab": {},
    "colab_type": "code",
    "id": "2Hc12nTjPAtg"
   },
   "outputs": [],
   "source": [
    "data=final.sample(100000)"
   ]
  },
  {
   "cell_type": "code",
   "execution_count": 27,
   "metadata": {
    "colab": {
     "base_uri": "https://localhost:8080/",
     "height": 85
    },
    "colab_type": "code",
    "id": "CDKnuKuXPAtp",
    "outputId": "6c92bcfd-d6b3-49ee-8b1d-8eccf44a3cc9"
   },
   "outputs": [
    {
     "name": "stdout",
     "output_type": "stream",
     "text": [
      "For 100000 samples :\n",
      " 1    84117\n",
      "0    15883\n",
      "Name: Score, dtype: int64\n"
     ]
    }
   ],
   "source": [
    "print(\"For 100000 samples :\\n\" , data['Score'].value_counts())"
   ]
  },
  {
   "cell_type": "code",
   "execution_count": 28,
   "metadata": {
    "colab": {
     "base_uri": "https://localhost:8080/",
     "height": 5015
    },
    "colab_type": "code",
    "id": "7lxhVPCSPAt0",
    "outputId": "0f969201-2212-4096-e2a6-37bb1fbbdec9"
   },
   "outputs": [
    {
     "data": {
      "text/html": [
       "<div>\n",
       "<style scoped>\n",
       "    .dataframe tbody tr th:only-of-type {\n",
       "        vertical-align: middle;\n",
       "    }\n",
       "\n",
       "    .dataframe tbody tr th {\n",
       "        vertical-align: top;\n",
       "    }\n",
       "\n",
       "    .dataframe thead th {\n",
       "        text-align: right;\n",
       "    }\n",
       "</style>\n",
       "<table border=\"1\" class=\"dataframe\">\n",
       "  <thead>\n",
       "    <tr style=\"text-align: right;\">\n",
       "      <th></th>\n",
       "      <th>Id</th>\n",
       "      <th>ProductId</th>\n",
       "      <th>UserId</th>\n",
       "      <th>ProfileName</th>\n",
       "      <th>HelpfulnessNumerator</th>\n",
       "      <th>HelpfulnessDenominator</th>\n",
       "      <th>Score</th>\n",
       "      <th>Time</th>\n",
       "      <th>Summary</th>\n",
       "      <th>Text</th>\n",
       "      <th>CleanedText</th>\n",
       "    </tr>\n",
       "  </thead>\n",
       "  <tbody>\n",
       "    <tr>\n",
       "      <th>138706</th>\n",
       "      <td>150524</td>\n",
       "      <td>0006641040</td>\n",
       "      <td>ACITT7DI6IDDL</td>\n",
       "      <td>shari zychinski</td>\n",
       "      <td>0</td>\n",
       "      <td>0</td>\n",
       "      <td>1</td>\n",
       "      <td>1999-10-08</td>\n",
       "      <td>EVERY book is educational</td>\n",
       "      <td>this witty little book makes my son laugh at l...</td>\n",
       "      <td>witty little book makes son laugh loud recite ...</td>\n",
       "    </tr>\n",
       "    <tr>\n",
       "      <th>138683</th>\n",
       "      <td>150501</td>\n",
       "      <td>0006641040</td>\n",
       "      <td>AJ46FKXOVC7NR</td>\n",
       "      <td>Nicholas A Mesiano</td>\n",
       "      <td>2</td>\n",
       "      <td>2</td>\n",
       "      <td>1</td>\n",
       "      <td>1999-10-25</td>\n",
       "      <td>This whole series is great way to spend time w...</td>\n",
       "      <td>I can remember seeing the show when it aired o...</td>\n",
       "      <td>remember seeing show aired television years ag...</td>\n",
       "    </tr>\n",
       "    <tr>\n",
       "      <th>70688</th>\n",
       "      <td>76882</td>\n",
       "      <td>B00002N8SM</td>\n",
       "      <td>A32DW342WBJ6BX</td>\n",
       "      <td>Buttersugar</td>\n",
       "      <td>0</td>\n",
       "      <td>0</td>\n",
       "      <td>1</td>\n",
       "      <td>2000-01-24</td>\n",
       "      <td>A sure death for flies</td>\n",
       "      <td>I bought a few of these after my apartment was...</td>\n",
       "      <td>bought apartment infested fruit flies hours tr...</td>\n",
       "    </tr>\n",
       "    <tr>\n",
       "      <th>138001</th>\n",
       "      <td>149770</td>\n",
       "      <td>B00004S1C5</td>\n",
       "      <td>A1KXONFPU2XQ5K</td>\n",
       "      <td>Stephanie Manley</td>\n",
       "      <td>8</td>\n",
       "      <td>8</td>\n",
       "      <td>1</td>\n",
       "      <td>2000-08-09</td>\n",
       "      <td>Very easy to use</td>\n",
       "      <td>This are so much easier to use than the Wilson...</td>\n",
       "      <td>much easier use wilson paste colors colors vib...</td>\n",
       "    </tr>\n",
       "    <tr>\n",
       "      <th>138000</th>\n",
       "      <td>149768</td>\n",
       "      <td>B00004S1C5</td>\n",
       "      <td>A7P76IGRZZBFJ</td>\n",
       "      <td>E. Thompson \"Soooooper Genius\"</td>\n",
       "      <td>18</td>\n",
       "      <td>18</td>\n",
       "      <td>1</td>\n",
       "      <td>2000-12-05</td>\n",
       "      <td>Who Needs Wilton?</td>\n",
       "      <td>I'm sick of scads of nasty toothpicks all over...</td>\n",
       "      <td>sick scads nasty toothpicks counter tinting ic...</td>\n",
       "    </tr>\n",
       "    <tr>\n",
       "      <th>138018</th>\n",
       "      <td>149790</td>\n",
       "      <td>B00004S1C6</td>\n",
       "      <td>A1IU7S4HCK1XK0</td>\n",
       "      <td>Joanna Daneman</td>\n",
       "      <td>25</td>\n",
       "      <td>27</td>\n",
       "      <td>1</td>\n",
       "      <td>2001-02-22</td>\n",
       "      <td>Make your own Martha Stewart style cakes and c...</td>\n",
       "      <td>I don't know why anyone would ever use those l...</td>\n",
       "      <td>not know anyone would ever use little liquid f...</td>\n",
       "    </tr>\n",
       "    <tr>\n",
       "      <th>138020</th>\n",
       "      <td>149792</td>\n",
       "      <td>B00004S1C6</td>\n",
       "      <td>A3B5QJVM1TLYJG</td>\n",
       "      <td>Dan Crevier</td>\n",
       "      <td>11</td>\n",
       "      <td>12</td>\n",
       "      <td>1</td>\n",
       "      <td>2001-10-23</td>\n",
       "      <td>Nice, bright colors!</td>\n",
       "      <td>I bought these to decorate some dia de los mue...</td>\n",
       "      <td>bought decorate dia de los muertos skulls icin...</td>\n",
       "    </tr>\n",
       "    <tr>\n",
       "      <th>138682</th>\n",
       "      <td>150500</td>\n",
       "      <td>0006641040</td>\n",
       "      <td>A1IJKK6Q1GTEAY</td>\n",
       "      <td>A Customer</td>\n",
       "      <td>2</td>\n",
       "      <td>2</td>\n",
       "      <td>1</td>\n",
       "      <td>2001-12-26</td>\n",
       "      <td>It Was a favorite!</td>\n",
       "      <td>This was a favorite book of mine when I was a ...</td>\n",
       "      <td>favorite book mine little girl would read time...</td>\n",
       "    </tr>\n",
       "    <tr>\n",
       "      <th>138691</th>\n",
       "      <td>150509</td>\n",
       "      <td>0006641040</td>\n",
       "      <td>A3CMRKGE0P909G</td>\n",
       "      <td>Teresa</td>\n",
       "      <td>3</td>\n",
       "      <td>4</td>\n",
       "      <td>1</td>\n",
       "      <td>2002-04-10</td>\n",
       "      <td>A great way to learn the months</td>\n",
       "      <td>This is a book of poetry about the months of t...</td>\n",
       "      <td>book poetry months year goes month cute little...</td>\n",
       "    </tr>\n",
       "    <tr>\n",
       "      <th>138707</th>\n",
       "      <td>150525</td>\n",
       "      <td>0006641040</td>\n",
       "      <td>A2QID6VCFTY51R</td>\n",
       "      <td>Rick</td>\n",
       "      <td>1</td>\n",
       "      <td>2</td>\n",
       "      <td>1</td>\n",
       "      <td>2002-07-01</td>\n",
       "      <td>In December it will be, my snowman's anniversa...</td>\n",
       "      <td>My daughter loves all the \"Really Rosie\" books...</td>\n",
       "      <td>daughter loves really rosie books introduced r...</td>\n",
       "    </tr>\n",
       "    <tr>\n",
       "      <th>138016</th>\n",
       "      <td>149787</td>\n",
       "      <td>B00004S1C6</td>\n",
       "      <td>A2XZKD83G4N9Y5</td>\n",
       "      <td>Cindy Elliott</td>\n",
       "      <td>43</td>\n",
       "      <td>45</td>\n",
       "      <td>1</td>\n",
       "      <td>2002-11-05</td>\n",
       "      <td>Great!</td>\n",
       "      <td>For those wondering, the bottles are each 3/4 ...</td>\n",
       "      <td>wondering bottles oz gel food color vibrant am...</td>\n",
       "    </tr>\n",
       "    <tr>\n",
       "      <th>137933</th>\n",
       "      <td>149701</td>\n",
       "      <td>B00006L2ZT</td>\n",
       "      <td>A2STZ646VQE8QI</td>\n",
       "      <td>anomalogue</td>\n",
       "      <td>1</td>\n",
       "      <td>3</td>\n",
       "      <td>1</td>\n",
       "      <td>2002-11-06</td>\n",
       "      <td>This is the best Camper Van Beethoven</td>\n",
       "      <td>This is a  beautiful repackaging of Camper Van...</td>\n",
       "      <td>beautiful repackaging camper van beethoven fir...</td>\n",
       "    </tr>\n",
       "    <tr>\n",
       "      <th>137934</th>\n",
       "      <td>149702</td>\n",
       "      <td>B00006L2ZT</td>\n",
       "      <td>A25CKRB0P506KH</td>\n",
       "      <td>Jonathan P. Higgins</td>\n",
       "      <td>1</td>\n",
       "      <td>4</td>\n",
       "      <td>1</td>\n",
       "      <td>2002-11-07</td>\n",
       "      <td>Camper van Beethoven is the greatest rock band...</td>\n",
       "      <td>Well, maybe not &amp;quot;the&amp;quot; greatest, but ...</td>\n",
       "      <td>well maybe not greatest one best set brings to...</td>\n",
       "    </tr>\n",
       "    <tr>\n",
       "      <th>137929</th>\n",
       "      <td>149697</td>\n",
       "      <td>B00006L2ZT</td>\n",
       "      <td>A2RSOEBCK1K70S</td>\n",
       "      <td>G. Preston</td>\n",
       "      <td>19</td>\n",
       "      <td>21</td>\n",
       "      <td>1</td>\n",
       "      <td>2002-11-07</td>\n",
       "      <td>Boxed Evolution</td>\n",
       "      <td>Long live Camper Van Beethoven!! This is a ble...</td>\n",
       "      <td>long live camper van beethoven blessing long t...</td>\n",
       "    </tr>\n",
       "    <tr>\n",
       "      <th>137935</th>\n",
       "      <td>149703</td>\n",
       "      <td>B00006L2ZT</td>\n",
       "      <td>A2Y8DAMQ4PHSK9</td>\n",
       "      <td>AWKword</td>\n",
       "      <td>2</td>\n",
       "      <td>6</td>\n",
       "      <td>1</td>\n",
       "      <td>2002-11-08</td>\n",
       "      <td>Never A Dull Moment</td>\n",
       "      <td>Finally, a collection of the best Camper Van B...</td>\n",
       "      <td>finally collection best camper van beethoven a...</td>\n",
       "    </tr>\n",
       "    <tr>\n",
       "      <th>138015</th>\n",
       "      <td>149786</td>\n",
       "      <td>B00004S1C6</td>\n",
       "      <td>A1RI7KJRUURG5J</td>\n",
       "      <td>gtigrl \"gtigrl\"</td>\n",
       "      <td>37</td>\n",
       "      <td>38</td>\n",
       "      <td>1</td>\n",
       "      <td>2002-12-26</td>\n",
       "      <td>You will be happy with this</td>\n",
       "      <td>I'm really glad I bought the Ateco 12-Color Fo...</td>\n",
       "      <td>really glad bought ateco food coloring kit fou...</td>\n",
       "    </tr>\n",
       "    <tr>\n",
       "      <th>137930</th>\n",
       "      <td>149698</td>\n",
       "      <td>B00006L2ZT</td>\n",
       "      <td>AQIO9QHHPFFET</td>\n",
       "      <td>Brendan M. Howard</td>\n",
       "      <td>5</td>\n",
       "      <td>5</td>\n",
       "      <td>1</td>\n",
       "      <td>2002-12-29</td>\n",
       "      <td>For a CVB fan, this is a gem.</td>\n",
       "      <td>The notoriously out-of-print early albums of C...</td>\n",
       "      <td>notoriously print early albums camper van beet...</td>\n",
       "    </tr>\n",
       "    <tr>\n",
       "      <th>138681</th>\n",
       "      <td>150499</td>\n",
       "      <td>0006641040</td>\n",
       "      <td>A3E7R866M94L0C</td>\n",
       "      <td>L. Barker \"simienwolf\"</td>\n",
       "      <td>2</td>\n",
       "      <td>2</td>\n",
       "      <td>1</td>\n",
       "      <td>2003-10-11</td>\n",
       "      <td>Can't explain why</td>\n",
       "      <td>This book has been a favorite of mine since I ...</td>\n",
       "      <td>book favorite mine since able read one first i...</td>\n",
       "    </tr>\n",
       "    <tr>\n",
       "      <th>178085</th>\n",
       "      <td>193108</td>\n",
       "      <td>B0000DJDJR</td>\n",
       "      <td>A3F6UNXVI9LSMA</td>\n",
       "      <td>Samuel H. Wheeler \"bigdaddysam\"</td>\n",
       "      <td>7</td>\n",
       "      <td>7</td>\n",
       "      <td>1</td>\n",
       "      <td>2003-10-17</td>\n",
       "      <td>Best Ice Cream Ever!!!</td>\n",
       "      <td>As a kid this ice cream was a favorite treat. ...</td>\n",
       "      <td>kid ice cream favorite treat told highest milk...</td>\n",
       "    </tr>\n",
       "    <tr>\n",
       "      <th>28087</th>\n",
       "      <td>30630</td>\n",
       "      <td>B00008RCMI</td>\n",
       "      <td>A284C7M23F0APC</td>\n",
       "      <td>A. Mendoza</td>\n",
       "      <td>0</td>\n",
       "      <td>0</td>\n",
       "      <td>1</td>\n",
       "      <td>2003-10-25</td>\n",
       "      <td>Best sugarless gum ever!</td>\n",
       "      <td>I love this stuff. It is sugar-free so it does...</td>\n",
       "      <td>love stuff sugar free not rot gums tastes good...</td>\n",
       "    </tr>\n",
       "    <tr>\n",
       "      <th>28086</th>\n",
       "      <td>30629</td>\n",
       "      <td>B00008RCMI</td>\n",
       "      <td>A19E94CF5O1LY7</td>\n",
       "      <td>Andrew Arnold</td>\n",
       "      <td>0</td>\n",
       "      <td>0</td>\n",
       "      <td>1</td>\n",
       "      <td>2003-10-25</td>\n",
       "      <td>I've chewed this gum many times, but used?</td>\n",
       "      <td>Nothing against the product, but it does bothe...</td>\n",
       "      <td>nothing product bother link top page buy used ...</td>\n",
       "    </tr>\n",
       "    <tr>\n",
       "      <th>61299</th>\n",
       "      <td>66610</td>\n",
       "      <td>B0000SY9U4</td>\n",
       "      <td>A3EEDHNHI4WNSH</td>\n",
       "      <td>Joanna J. Young</td>\n",
       "      <td>23</td>\n",
       "      <td>23</td>\n",
       "      <td>1</td>\n",
       "      <td>2003-10-30</td>\n",
       "      <td>Yummy</td>\n",
       "      <td>If you've never tried Kona coffee, Aloha Islan...</td>\n",
       "      <td>never tried kona coffee aloha island definitel...</td>\n",
       "    </tr>\n",
       "    <tr>\n",
       "      <th>197136</th>\n",
       "      <td>213676</td>\n",
       "      <td>B0000D9MXU</td>\n",
       "      <td>A3MXE8CDJX12V2</td>\n",
       "      <td>L. M. Schulz \"domestic engineer\"</td>\n",
       "      <td>3</td>\n",
       "      <td>3</td>\n",
       "      <td>1</td>\n",
       "      <td>2003-11-01</td>\n",
       "      <td>A Cheese the Whole Family Likes...</td>\n",
       "      <td>The description of a cross between cheddar and...</td>\n",
       "      <td>description cross cheddar parmesan completely ...</td>\n",
       "    </tr>\n",
       "    <tr>\n",
       "      <th>38889</th>\n",
       "      <td>42227</td>\n",
       "      <td>B0000A0BS8</td>\n",
       "      <td>A1IU7S4HCK1XK0</td>\n",
       "      <td>Joanna Daneman</td>\n",
       "      <td>5</td>\n",
       "      <td>5</td>\n",
       "      <td>1</td>\n",
       "      <td>2003-11-01</td>\n",
       "      <td>I gave up on other coffees</td>\n",
       "      <td>The grocery store has all kinds of &amp;quot;gourm...</td>\n",
       "      <td>grocery store kinds gourmet coffees laid one t...</td>\n",
       "    </tr>\n",
       "    <tr>\n",
       "      <th>38888</th>\n",
       "      <td>42226</td>\n",
       "      <td>B0000A0BS8</td>\n",
       "      <td>A23GFTVIETX7DS</td>\n",
       "      <td>Debbie Lee Wesselmann</td>\n",
       "      <td>5</td>\n",
       "      <td>5</td>\n",
       "      <td>1</td>\n",
       "      <td>2003-11-04</td>\n",
       "      <td>Five stars if you like Starbucks</td>\n",
       "      <td>This blend is one of Starbucks' gentler blends...</td>\n",
       "      <td>blend one starbucks gentler blends like taste ...</td>\n",
       "    </tr>\n",
       "    <tr>\n",
       "      <th>10992</th>\n",
       "      <td>11991</td>\n",
       "      <td>B0000T15M8</td>\n",
       "      <td>A2928LJN5IISB4</td>\n",
       "      <td>chatchi</td>\n",
       "      <td>5</td>\n",
       "      <td>5</td>\n",
       "      <td>1</td>\n",
       "      <td>2003-11-05</td>\n",
       "      <td>The fruits of my labor</td>\n",
       "      <td>When chatchi's favorite afternoon treat became...</td>\n",
       "      <td>chatchi favorite afternoon treat became myster...</td>\n",
       "    </tr>\n",
       "    <tr>\n",
       "      <th>97546</th>\n",
       "      <td>105988</td>\n",
       "      <td>B0000DG4EJ</td>\n",
       "      <td>AVCJ3K0HFRRUM</td>\n",
       "      <td>H. Johnson</td>\n",
       "      <td>0</td>\n",
       "      <td>0</td>\n",
       "      <td>1</td>\n",
       "      <td>2003-11-06</td>\n",
       "      <td>*Yummy* *Spicy*</td>\n",
       "      <td>Forget that store bought jerky.  Make your own...</td>\n",
       "      <td>forget store bought jerky make premium jerky a...</td>\n",
       "    </tr>\n",
       "    <tr>\n",
       "      <th>179643</th>\n",
       "      <td>194858</td>\n",
       "      <td>B0000E65WB</td>\n",
       "      <td>A2VZ11U5DXM8J5</td>\n",
       "      <td>C. Ebeling \"ctlpareader\"</td>\n",
       "      <td>1</td>\n",
       "      <td>1</td>\n",
       "      <td>1</td>\n",
       "      <td>2003-11-09</td>\n",
       "      <td>Stock Up On This Item</td>\n",
       "      <td>I usually purchase this item in smaller links ...</td>\n",
       "      <td>usually purchase item smaller links pound stas...</td>\n",
       "    </tr>\n",
       "    <tr>\n",
       "      <th>152809</th>\n",
       "      <td>165717</td>\n",
       "      <td>B0000D9N59</td>\n",
       "      <td>A59DU8EGS1QNU</td>\n",
       "      <td>Ryan Cardone</td>\n",
       "      <td>15</td>\n",
       "      <td>20</td>\n",
       "      <td>1</td>\n",
       "      <td>2003-11-10</td>\n",
       "      <td>The Cheese Served In Heaven</td>\n",
       "      <td>This amazingly flavored cheese was at the top ...</td>\n",
       "      <td>amazingly flavored cheese top food triangle th...</td>\n",
       "    </tr>\n",
       "    <tr>\n",
       "      <th>96196</th>\n",
       "      <td>104537</td>\n",
       "      <td>B0000DG5B6</td>\n",
       "      <td>A1S3DOTCYJPE4O</td>\n",
       "      <td>hervin02 \"hervin02\"</td>\n",
       "      <td>0</td>\n",
       "      <td>0</td>\n",
       "      <td>1</td>\n",
       "      <td>2003-11-10</td>\n",
       "      <td>Excellent Sauce!</td>\n",
       "      <td>This sauce is excellent, and indeed spicy.  Th...</td>\n",
       "      <td>sauce excellent indeed spicy brand also makes ...</td>\n",
       "    </tr>\n",
       "    <tr>\n",
       "      <th>...</th>\n",
       "      <td>...</td>\n",
       "      <td>...</td>\n",
       "      <td>...</td>\n",
       "      <td>...</td>\n",
       "      <td>...</td>\n",
       "      <td>...</td>\n",
       "      <td>...</td>\n",
       "      <td>...</td>\n",
       "      <td>...</td>\n",
       "      <td>...</td>\n",
       "      <td>...</td>\n",
       "    </tr>\n",
       "    <tr>\n",
       "      <th>167376</th>\n",
       "      <td>181473</td>\n",
       "      <td>B007OSBEV0</td>\n",
       "      <td>A2R28IOP06EH4X</td>\n",
       "      <td>Trying</td>\n",
       "      <td>0</td>\n",
       "      <td>0</td>\n",
       "      <td>0</td>\n",
       "      <td>2012-10-26</td>\n",
       "      <td>No Consistency</td>\n",
       "      <td>I purchased the variety pack of Martinsons and...</td>\n",
       "      <td>purchased variety pack martinsons brown gold v...</td>\n",
       "    </tr>\n",
       "    <tr>\n",
       "      <th>101375</th>\n",
       "      <td>110115</td>\n",
       "      <td>B0042WXFJU</td>\n",
       "      <td>A1X1592EDWIJU4</td>\n",
       "      <td>Blondie</td>\n",
       "      <td>0</td>\n",
       "      <td>0</td>\n",
       "      <td>1</td>\n",
       "      <td>2012-10-26</td>\n",
       "      <td>Tasty, but....</td>\n",
       "      <td>I don't know how they can label these as lenti...</td>\n",
       "      <td>not know label lentils lentils third ingredien...</td>\n",
       "    </tr>\n",
       "    <tr>\n",
       "      <th>5259</th>\n",
       "      <td>5703</td>\n",
       "      <td>B009WSNWC4</td>\n",
       "      <td>AMP7K1O84DH1T</td>\n",
       "      <td>ESTY</td>\n",
       "      <td>0</td>\n",
       "      <td>0</td>\n",
       "      <td>1</td>\n",
       "      <td>2012-10-26</td>\n",
       "      <td>DELICIOUS</td>\n",
       "      <td>Purchased this product at a local store in NY ...</td>\n",
       "      <td>purchased product local store ny kids love qui...</td>\n",
       "    </tr>\n",
       "    <tr>\n",
       "      <th>76059</th>\n",
       "      <td>82772</td>\n",
       "      <td>B0049K99RW</td>\n",
       "      <td>A1Y73Y4VX3AJMZ</td>\n",
       "      <td>Rispir Chrone</td>\n",
       "      <td>0</td>\n",
       "      <td>0</td>\n",
       "      <td>1</td>\n",
       "      <td>2012-10-26</td>\n",
       "      <td>Nice traditional chai</td>\n",
       "      <td>I got hooked on this chai when I decided to gi...</td>\n",
       "      <td>got hooked chai decided give coffee still litt...</td>\n",
       "    </tr>\n",
       "    <tr>\n",
       "      <th>51204</th>\n",
       "      <td>55627</td>\n",
       "      <td>B004CYLW7A</td>\n",
       "      <td>A2CMS7BYL8BKP1</td>\n",
       "      <td>luv2fly</td>\n",
       "      <td>0</td>\n",
       "      <td>0</td>\n",
       "      <td>0</td>\n",
       "      <td>2012-10-26</td>\n",
       "      <td>Yuk! And who goes to Amazon to buy cereal?????</td>\n",
       "      <td>This stuff tasted like (insert favorite negati...</td>\n",
       "      <td>stuff tasted like insert favorite negative adj...</td>\n",
       "    </tr>\n",
       "    <tr>\n",
       "      <th>125271</th>\n",
       "      <td>135891</td>\n",
       "      <td>B001ACMCLM</td>\n",
       "      <td>A2PCNXBSKCABG5</td>\n",
       "      <td>Whit</td>\n",
       "      <td>0</td>\n",
       "      <td>0</td>\n",
       "      <td>1</td>\n",
       "      <td>2012-10-26</td>\n",
       "      <td>GOOD GLUTEN FREE BREAD STCK MIX</td>\n",
       "      <td>Makes very good break sticks.. Also can be use...</td>\n",
       "      <td>makes good break sticks also used pizza crust ...</td>\n",
       "    </tr>\n",
       "    <tr>\n",
       "      <th>67928</th>\n",
       "      <td>73819</td>\n",
       "      <td>B008AHJZWY</td>\n",
       "      <td>AL0PVH6QPNWMW</td>\n",
       "      <td>good151</td>\n",
       "      <td>0</td>\n",
       "      <td>0</td>\n",
       "      <td>0</td>\n",
       "      <td>2012-10-26</td>\n",
       "      <td>Hint Fizz</td>\n",
       "      <td>I love hint water so when I saw they offered h...</td>\n",
       "      <td>love hint water saw offered hint fizz try wors...</td>\n",
       "    </tr>\n",
       "    <tr>\n",
       "      <th>159352</th>\n",
       "      <td>172755</td>\n",
       "      <td>B003Z2N8GI</td>\n",
       "      <td>A3G67CDWPI9HLA</td>\n",
       "      <td>DJ Buddha</td>\n",
       "      <td>0</td>\n",
       "      <td>0</td>\n",
       "      <td>1</td>\n",
       "      <td>2012-10-26</td>\n",
       "      <td>Good value but still borderline junk-food</td>\n",
       "      <td>I was very pleased to find these snacks at thi...</td>\n",
       "      <td>pleased find snacks price vending machines aro...</td>\n",
       "    </tr>\n",
       "    <tr>\n",
       "      <th>179594</th>\n",
       "      <td>194805</td>\n",
       "      <td>B0046IIPMW</td>\n",
       "      <td>A27IEA7DADM64W</td>\n",
       "      <td>ioBuddha</td>\n",
       "      <td>0</td>\n",
       "      <td>0</td>\n",
       "      <td>1</td>\n",
       "      <td>2012-10-26</td>\n",
       "      <td>Great for a Paleo diet</td>\n",
       "      <td>I've been eating a strict Paleo eating diet fo...</td>\n",
       "      <td>eating strict paleo eating diet nearly one yea...</td>\n",
       "    </tr>\n",
       "    <tr>\n",
       "      <th>193318</th>\n",
       "      <td>209598</td>\n",
       "      <td>B004ZEL1BO</td>\n",
       "      <td>A23UMGC3IY4B78</td>\n",
       "      <td>JGT \"Maestro slzo\"</td>\n",
       "      <td>0</td>\n",
       "      <td>0</td>\n",
       "      <td>0</td>\n",
       "      <td>2012-10-26</td>\n",
       "      <td>TOXIC INGREDIENTS!  WILL RETURN....</td>\n",
       "      <td>After reviewing the 3-star review on Amazon, I...</td>\n",
       "      <td>reviewing review amazon checked label containe...</td>\n",
       "    </tr>\n",
       "    <tr>\n",
       "      <th>194457</th>\n",
       "      <td>210809</td>\n",
       "      <td>B004WZ4EW4</td>\n",
       "      <td>A2IQ7EI0PHDE8J</td>\n",
       "      <td>Happiness by Good Music</td>\n",
       "      <td>0</td>\n",
       "      <td>0</td>\n",
       "      <td>0</td>\n",
       "      <td>2012-10-26</td>\n",
       "      <td>Tasty but not truly raw</td>\n",
       "      <td>These taste great and it's nice to see they've...</td>\n",
       "      <td>taste great nice see come naked seaweed withou...</td>\n",
       "    </tr>\n",
       "    <tr>\n",
       "      <th>76593</th>\n",
       "      <td>83329</td>\n",
       "      <td>B005ZBZLT4</td>\n",
       "      <td>A308RR8J9NJOOZ</td>\n",
       "      <td>Josh</td>\n",
       "      <td>0</td>\n",
       "      <td>0</td>\n",
       "      <td>1</td>\n",
       "      <td>2012-10-26</td>\n",
       "      <td>One of the best!</td>\n",
       "      <td>I am recently new to the Keurig world.  I've t...</td>\n",
       "      <td>recently new keurig world tried handful flavor...</td>\n",
       "    </tr>\n",
       "    <tr>\n",
       "      <th>157477</th>\n",
       "      <td>170765</td>\n",
       "      <td>B00765PU2K</td>\n",
       "      <td>A1HZOO8M8RMQUR</td>\n",
       "      <td>S. Jensen \"gardener\"</td>\n",
       "      <td>0</td>\n",
       "      <td>0</td>\n",
       "      <td>1</td>\n",
       "      <td>2012-10-26</td>\n",
       "      <td>Just what I expected!</td>\n",
       "      <td>I bought these in order to make vanilla and ka...</td>\n",
       "      <td>bought order make vanilla kahlua christmas gif...</td>\n",
       "    </tr>\n",
       "    <tr>\n",
       "      <th>198657</th>\n",
       "      <td>215299</td>\n",
       "      <td>B004O86R2O</td>\n",
       "      <td>ABSMK7ETXKES0</td>\n",
       "      <td>ak</td>\n",
       "      <td>0</td>\n",
       "      <td>0</td>\n",
       "      <td>1</td>\n",
       "      <td>2012-10-26</td>\n",
       "      <td>Great product!!!!!!!!!!!!</td>\n",
       "      <td>price and quality are awesome!! Buy recommenda...</td>\n",
       "      <td>price quality awesome buy recommendation order...</td>\n",
       "    </tr>\n",
       "    <tr>\n",
       "      <th>50708</th>\n",
       "      <td>55049</td>\n",
       "      <td>B000IHJEDE</td>\n",
       "      <td>A2DFSA2JXQKVY3</td>\n",
       "      <td>C-Rush</td>\n",
       "      <td>0</td>\n",
       "      <td>0</td>\n",
       "      <td>1</td>\n",
       "      <td>2012-10-26</td>\n",
       "      <td>Not bad.</td>\n",
       "      <td>These are small and very salty. The taste is g...</td>\n",
       "      <td>small salty taste good strong good thing packa...</td>\n",
       "    </tr>\n",
       "    <tr>\n",
       "      <th>55158</th>\n",
       "      <td>59851</td>\n",
       "      <td>B001EQ5KTK</td>\n",
       "      <td>A3GS4GWPIBV0NT</td>\n",
       "      <td>R. Chester \"ricki1966\"</td>\n",
       "      <td>0</td>\n",
       "      <td>0</td>\n",
       "      <td>1</td>\n",
       "      <td>2012-10-26</td>\n",
       "      <td>Love this tea</td>\n",
       "      <td>This is a favorite of mine for using over ice....</td>\n",
       "      <td>favorite mine using ice even bought give chris...</td>\n",
       "    </tr>\n",
       "    <tr>\n",
       "      <th>110924</th>\n",
       "      <td>120363</td>\n",
       "      <td>B005K4Q37A</td>\n",
       "      <td>A3TXT588J6OR0Y</td>\n",
       "      <td>Hmeryhew</td>\n",
       "      <td>0</td>\n",
       "      <td>0</td>\n",
       "      <td>1</td>\n",
       "      <td>2012-10-26</td>\n",
       "      <td>Love this stuff!!</td>\n",
       "      <td>I Have been ordering this k cup cappucino drin...</td>\n",
       "      <td>ordering k cup cappucino drink awhile never pr...</td>\n",
       "    </tr>\n",
       "    <tr>\n",
       "      <th>90340</th>\n",
       "      <td>98294</td>\n",
       "      <td>B0002LY6W0</td>\n",
       "      <td>A1BX08Y0GIT5RU</td>\n",
       "      <td>L. Nguyen \"Always on the lookout for a good d...</td>\n",
       "      <td>0</td>\n",
       "      <td>0</td>\n",
       "      <td>1</td>\n",
       "      <td>2012-10-26</td>\n",
       "      <td>The BEST fig spread on the market</td>\n",
       "      <td>This is my go to spread when I serve a cheese ...</td>\n",
       "      <td>go spread serve cheese platter goes well soft ...</td>\n",
       "    </tr>\n",
       "    <tr>\n",
       "      <th>78920</th>\n",
       "      <td>85816</td>\n",
       "      <td>B005XGH78E</td>\n",
       "      <td>A2YGWCOC3LM3KH</td>\n",
       "      <td>Luke R. McAllister</td>\n",
       "      <td>0</td>\n",
       "      <td>0</td>\n",
       "      <td>1</td>\n",
       "      <td>2012-10-26</td>\n",
       "      <td>Great flavor - spicy but not too hot</td>\n",
       "      <td>I got some of this from a low sodium foods web...</td>\n",
       "      <td>got low sodium foods website not believe much ...</td>\n",
       "    </tr>\n",
       "    <tr>\n",
       "      <th>161316</th>\n",
       "      <td>174906</td>\n",
       "      <td>B005J0N5ZI</td>\n",
       "      <td>AK42RQFIGJAEJ</td>\n",
       "      <td>Doodleoo</td>\n",
       "      <td>0</td>\n",
       "      <td>0</td>\n",
       "      <td>1</td>\n",
       "      <td>2012-10-26</td>\n",
       "      <td>OMG!!!</td>\n",
       "      <td>I just want to start off by saying that I am a...</td>\n",
       "      <td>want start saying holiday fanatic love smells ...</td>\n",
       "    </tr>\n",
       "    <tr>\n",
       "      <th>126261</th>\n",
       "      <td>136996</td>\n",
       "      <td>B002AQP5FW</td>\n",
       "      <td>AEWJD0G85FPSG</td>\n",
       "      <td>Cathy</td>\n",
       "      <td>0</td>\n",
       "      <td>0</td>\n",
       "      <td>1</td>\n",
       "      <td>2012-10-26</td>\n",
       "      <td>Betty Crocker yellow cake mix</td>\n",
       "      <td>The Betty Crocker Gluten Free yellow cake mixe...</td>\n",
       "      <td>betty crocker gluten free yellow cake mixes de...</td>\n",
       "    </tr>\n",
       "    <tr>\n",
       "      <th>24496</th>\n",
       "      <td>26772</td>\n",
       "      <td>B004ZY4TK4</td>\n",
       "      <td>A4IL0CLL27Q33</td>\n",
       "      <td>D. Brennan</td>\n",
       "      <td>0</td>\n",
       "      <td>0</td>\n",
       "      <td>0</td>\n",
       "      <td>2012-10-26</td>\n",
       "      <td>Buyer beware</td>\n",
       "      <td>Nespresso makes GREAT coffee and GREAT machine...</td>\n",
       "      <td>nespresso makes great coffee great machines sw...</td>\n",
       "    </tr>\n",
       "    <tr>\n",
       "      <th>156339</th>\n",
       "      <td>169542</td>\n",
       "      <td>B005HI557S</td>\n",
       "      <td>A36ERNIM0TKG3T</td>\n",
       "      <td>Donald E. Bolton</td>\n",
       "      <td>0</td>\n",
       "      <td>0</td>\n",
       "      <td>1</td>\n",
       "      <td>2012-10-26</td>\n",
       "      <td>Hidden Springs Maple syrup</td>\n",
       "      <td>This is one of the very finest maple syrups I ...</td>\n",
       "      <td>one finest maple syrups ordered enjoyed bought...</td>\n",
       "    </tr>\n",
       "    <tr>\n",
       "      <th>85745</th>\n",
       "      <td>93367</td>\n",
       "      <td>B007TGDXMU</td>\n",
       "      <td>AAMUNRK134Y5P</td>\n",
       "      <td>Tony Schy</td>\n",
       "      <td>0</td>\n",
       "      <td>0</td>\n",
       "      <td>1</td>\n",
       "      <td>2012-10-26</td>\n",
       "      <td>Very pleased</td>\n",
       "      <td>Good price, good quality with convenience.  Fu...</td>\n",
       "      <td>good price good quality convenience fully met ...</td>\n",
       "    </tr>\n",
       "    <tr>\n",
       "      <th>42269</th>\n",
       "      <td>45991</td>\n",
       "      <td>B007VQQT1K</td>\n",
       "      <td>A34P4V70RNC2YV</td>\n",
       "      <td>S. Guss</td>\n",
       "      <td>0</td>\n",
       "      <td>0</td>\n",
       "      <td>1</td>\n",
       "      <td>2012-10-26</td>\n",
       "      <td>Great Irish Tea</td>\n",
       "      <td>We recently returned from a wonderful three we...</td>\n",
       "      <td>recently returned wonderful three week excursi...</td>\n",
       "    </tr>\n",
       "    <tr>\n",
       "      <th>190494</th>\n",
       "      <td>206554</td>\n",
       "      <td>B003HFA3XY</td>\n",
       "      <td>A1PLO6OW6O2Z1</td>\n",
       "      <td>Debra Sandifer \"lldcs\"</td>\n",
       "      <td>0</td>\n",
       "      <td>0</td>\n",
       "      <td>0</td>\n",
       "      <td>2012-10-26</td>\n",
       "      <td>Not very tasty!</td>\n",
       "      <td>I love Arnold Plamer's and Starbucks has the b...</td>\n",
       "      <td>love arnold plamer starbucks best black tea le...</td>\n",
       "    </tr>\n",
       "    <tr>\n",
       "      <th>129636</th>\n",
       "      <td>140710</td>\n",
       "      <td>B006K2HQRW</td>\n",
       "      <td>A37264CFSSA73O</td>\n",
       "      <td>Andrea</td>\n",
       "      <td>0</td>\n",
       "      <td>0</td>\n",
       "      <td>1</td>\n",
       "      <td>2012-10-26</td>\n",
       "      <td>Standard</td>\n",
       "      <td>It's not the best quince brand but it's fine.&lt;...</td>\n",
       "      <td>not best quince brand fine product arrived per...</td>\n",
       "    </tr>\n",
       "    <tr>\n",
       "      <th>140932</th>\n",
       "      <td>152948</td>\n",
       "      <td>B002BV05D8</td>\n",
       "      <td>AB3H48U5G3PH1</td>\n",
       "      <td>Linda</td>\n",
       "      <td>0</td>\n",
       "      <td>0</td>\n",
       "      <td>1</td>\n",
       "      <td>2012-10-26</td>\n",
       "      <td>Gatorad</td>\n",
       "      <td>My husband loves this in a can! Can't find the...</td>\n",
       "      <td>husband loves ca not find cans store shipped f...</td>\n",
       "    </tr>\n",
       "    <tr>\n",
       "      <th>167615</th>\n",
       "      <td>181738</td>\n",
       "      <td>B001J9QBU4</td>\n",
       "      <td>A3UOYYQS5Z47MS</td>\n",
       "      <td>David A. Levin \"DaveL\"</td>\n",
       "      <td>0</td>\n",
       "      <td>0</td>\n",
       "      <td>1</td>\n",
       "      <td>2012-10-26</td>\n",
       "      <td>Morning Coffee</td>\n",
       "      <td>Great coffee at a good price. I'm a subscripti...</td>\n",
       "      <td>great coffee good price subscription buyer buy...</td>\n",
       "    </tr>\n",
       "    <tr>\n",
       "      <th>103237</th>\n",
       "      <td>112121</td>\n",
       "      <td>B0001M10TW</td>\n",
       "      <td>A3DUXBNB660QGM</td>\n",
       "      <td>Robyn A. Housemann</td>\n",
       "      <td>0</td>\n",
       "      <td>0</td>\n",
       "      <td>1</td>\n",
       "      <td>2012-10-26</td>\n",
       "      <td>This product is great however the price of $9....</td>\n",
       "      <td>This product is very good on all meat products...</td>\n",
       "      <td>product good meat products vegetables soups ri...</td>\n",
       "    </tr>\n",
       "  </tbody>\n",
       "</table>\n",
       "<p>100000 rows × 11 columns</p>\n",
       "</div>"
      ],
      "text/plain": [
       "            Id   ProductId          UserId  \\\n",
       "138706  150524  0006641040   ACITT7DI6IDDL   \n",
       "138683  150501  0006641040   AJ46FKXOVC7NR   \n",
       "70688    76882  B00002N8SM  A32DW342WBJ6BX   \n",
       "138001  149770  B00004S1C5  A1KXONFPU2XQ5K   \n",
       "138000  149768  B00004S1C5   A7P76IGRZZBFJ   \n",
       "138018  149790  B00004S1C6  A1IU7S4HCK1XK0   \n",
       "138020  149792  B00004S1C6  A3B5QJVM1TLYJG   \n",
       "138682  150500  0006641040  A1IJKK6Q1GTEAY   \n",
       "138691  150509  0006641040  A3CMRKGE0P909G   \n",
       "138707  150525  0006641040  A2QID6VCFTY51R   \n",
       "138016  149787  B00004S1C6  A2XZKD83G4N9Y5   \n",
       "137933  149701  B00006L2ZT  A2STZ646VQE8QI   \n",
       "137934  149702  B00006L2ZT  A25CKRB0P506KH   \n",
       "137929  149697  B00006L2ZT  A2RSOEBCK1K70S   \n",
       "137935  149703  B00006L2ZT  A2Y8DAMQ4PHSK9   \n",
       "138015  149786  B00004S1C6  A1RI7KJRUURG5J   \n",
       "137930  149698  B00006L2ZT   AQIO9QHHPFFET   \n",
       "138681  150499  0006641040  A3E7R866M94L0C   \n",
       "178085  193108  B0000DJDJR  A3F6UNXVI9LSMA   \n",
       "28087    30630  B00008RCMI  A284C7M23F0APC   \n",
       "28086    30629  B00008RCMI  A19E94CF5O1LY7   \n",
       "61299    66610  B0000SY9U4  A3EEDHNHI4WNSH   \n",
       "197136  213676  B0000D9MXU  A3MXE8CDJX12V2   \n",
       "38889    42227  B0000A0BS8  A1IU7S4HCK1XK0   \n",
       "38888    42226  B0000A0BS8  A23GFTVIETX7DS   \n",
       "10992    11991  B0000T15M8  A2928LJN5IISB4   \n",
       "97546   105988  B0000DG4EJ   AVCJ3K0HFRRUM   \n",
       "179643  194858  B0000E65WB  A2VZ11U5DXM8J5   \n",
       "152809  165717  B0000D9N59   A59DU8EGS1QNU   \n",
       "96196   104537  B0000DG5B6  A1S3DOTCYJPE4O   \n",
       "...        ...         ...             ...   \n",
       "167376  181473  B007OSBEV0  A2R28IOP06EH4X   \n",
       "101375  110115  B0042WXFJU  A1X1592EDWIJU4   \n",
       "5259      5703  B009WSNWC4   AMP7K1O84DH1T   \n",
       "76059    82772  B0049K99RW  A1Y73Y4VX3AJMZ   \n",
       "51204    55627  B004CYLW7A  A2CMS7BYL8BKP1   \n",
       "125271  135891  B001ACMCLM  A2PCNXBSKCABG5   \n",
       "67928    73819  B008AHJZWY   AL0PVH6QPNWMW   \n",
       "159352  172755  B003Z2N8GI  A3G67CDWPI9HLA   \n",
       "179594  194805  B0046IIPMW  A27IEA7DADM64W   \n",
       "193318  209598  B004ZEL1BO  A23UMGC3IY4B78   \n",
       "194457  210809  B004WZ4EW4  A2IQ7EI0PHDE8J   \n",
       "76593    83329  B005ZBZLT4  A308RR8J9NJOOZ   \n",
       "157477  170765  B00765PU2K  A1HZOO8M8RMQUR   \n",
       "198657  215299  B004O86R2O   ABSMK7ETXKES0   \n",
       "50708    55049  B000IHJEDE  A2DFSA2JXQKVY3   \n",
       "55158    59851  B001EQ5KTK  A3GS4GWPIBV0NT   \n",
       "110924  120363  B005K4Q37A  A3TXT588J6OR0Y   \n",
       "90340    98294  B0002LY6W0  A1BX08Y0GIT5RU   \n",
       "78920    85816  B005XGH78E  A2YGWCOC3LM3KH   \n",
       "161316  174906  B005J0N5ZI   AK42RQFIGJAEJ   \n",
       "126261  136996  B002AQP5FW   AEWJD0G85FPSG   \n",
       "24496    26772  B004ZY4TK4   A4IL0CLL27Q33   \n",
       "156339  169542  B005HI557S  A36ERNIM0TKG3T   \n",
       "85745    93367  B007TGDXMU   AAMUNRK134Y5P   \n",
       "42269    45991  B007VQQT1K  A34P4V70RNC2YV   \n",
       "190494  206554  B003HFA3XY   A1PLO6OW6O2Z1   \n",
       "129636  140710  B006K2HQRW  A37264CFSSA73O   \n",
       "140932  152948  B002BV05D8   AB3H48U5G3PH1   \n",
       "167615  181738  B001J9QBU4  A3UOYYQS5Z47MS   \n",
       "103237  112121  B0001M10TW  A3DUXBNB660QGM   \n",
       "\n",
       "                                             ProfileName  \\\n",
       "138706                                   shari zychinski   \n",
       "138683                                Nicholas A Mesiano   \n",
       "70688                                        Buttersugar   \n",
       "138001                                  Stephanie Manley   \n",
       "138000                    E. Thompson \"Soooooper Genius\"   \n",
       "138018                                    Joanna Daneman   \n",
       "138020                                       Dan Crevier   \n",
       "138682                                        A Customer   \n",
       "138691                                            Teresa   \n",
       "138707                                              Rick   \n",
       "138016                                     Cindy Elliott   \n",
       "137933                                        anomalogue   \n",
       "137934                               Jonathan P. Higgins   \n",
       "137929                                        G. Preston   \n",
       "137935                                           AWKword   \n",
       "138015                                   gtigrl \"gtigrl\"   \n",
       "137930                                 Brendan M. Howard   \n",
       "138681                            L. Barker \"simienwolf\"   \n",
       "178085                   Samuel H. Wheeler \"bigdaddysam\"   \n",
       "28087                                         A. Mendoza   \n",
       "28086                                      Andrew Arnold   \n",
       "61299                                    Joanna J. Young   \n",
       "197136                  L. M. Schulz \"domestic engineer\"   \n",
       "38889                                     Joanna Daneman   \n",
       "38888                              Debbie Lee Wesselmann   \n",
       "10992                                            chatchi   \n",
       "97546                                         H. Johnson   \n",
       "179643                          C. Ebeling \"ctlpareader\"   \n",
       "152809                                      Ryan Cardone   \n",
       "96196                                hervin02 \"hervin02\"   \n",
       "...                                                  ...   \n",
       "167376                                            Trying   \n",
       "101375                                           Blondie   \n",
       "5259                                                ESTY   \n",
       "76059                                      Rispir Chrone   \n",
       "51204                                            luv2fly   \n",
       "125271                                              Whit   \n",
       "67928                                            good151   \n",
       "159352                                         DJ Buddha   \n",
       "179594                                          ioBuddha   \n",
       "193318                                JGT \"Maestro slzo\"   \n",
       "194457                           Happiness by Good Music   \n",
       "76593                                               Josh   \n",
       "157477                              S. Jensen \"gardener\"   \n",
       "198657                                                ak   \n",
       "50708                                             C-Rush   \n",
       "55158                             R. Chester \"ricki1966\"   \n",
       "110924                                          Hmeryhew   \n",
       "90340   L. Nguyen \"Always on the lookout for a good d...   \n",
       "78920                                 Luke R. McAllister   \n",
       "161316                                          Doodleoo   \n",
       "126261                                             Cathy   \n",
       "24496                                         D. Brennan   \n",
       "156339                                  Donald E. Bolton   \n",
       "85745                                          Tony Schy   \n",
       "42269                                            S. Guss   \n",
       "190494                            Debra Sandifer \"lldcs\"   \n",
       "129636                                            Andrea   \n",
       "140932                                             Linda   \n",
       "167615                            David A. Levin \"DaveL\"   \n",
       "103237                                Robyn A. Housemann   \n",
       "\n",
       "        HelpfulnessNumerator  HelpfulnessDenominator  Score       Time  \\\n",
       "138706                     0                       0      1 1999-10-08   \n",
       "138683                     2                       2      1 1999-10-25   \n",
       "70688                      0                       0      1 2000-01-24   \n",
       "138001                     8                       8      1 2000-08-09   \n",
       "138000                    18                      18      1 2000-12-05   \n",
       "138018                    25                      27      1 2001-02-22   \n",
       "138020                    11                      12      1 2001-10-23   \n",
       "138682                     2                       2      1 2001-12-26   \n",
       "138691                     3                       4      1 2002-04-10   \n",
       "138707                     1                       2      1 2002-07-01   \n",
       "138016                    43                      45      1 2002-11-05   \n",
       "137933                     1                       3      1 2002-11-06   \n",
       "137934                     1                       4      1 2002-11-07   \n",
       "137929                    19                      21      1 2002-11-07   \n",
       "137935                     2                       6      1 2002-11-08   \n",
       "138015                    37                      38      1 2002-12-26   \n",
       "137930                     5                       5      1 2002-12-29   \n",
       "138681                     2                       2      1 2003-10-11   \n",
       "178085                     7                       7      1 2003-10-17   \n",
       "28087                      0                       0      1 2003-10-25   \n",
       "28086                      0                       0      1 2003-10-25   \n",
       "61299                     23                      23      1 2003-10-30   \n",
       "197136                     3                       3      1 2003-11-01   \n",
       "38889                      5                       5      1 2003-11-01   \n",
       "38888                      5                       5      1 2003-11-04   \n",
       "10992                      5                       5      1 2003-11-05   \n",
       "97546                      0                       0      1 2003-11-06   \n",
       "179643                     1                       1      1 2003-11-09   \n",
       "152809                    15                      20      1 2003-11-10   \n",
       "96196                      0                       0      1 2003-11-10   \n",
       "...                      ...                     ...    ...        ...   \n",
       "167376                     0                       0      0 2012-10-26   \n",
       "101375                     0                       0      1 2012-10-26   \n",
       "5259                       0                       0      1 2012-10-26   \n",
       "76059                      0                       0      1 2012-10-26   \n",
       "51204                      0                       0      0 2012-10-26   \n",
       "125271                     0                       0      1 2012-10-26   \n",
       "67928                      0                       0      0 2012-10-26   \n",
       "159352                     0                       0      1 2012-10-26   \n",
       "179594                     0                       0      1 2012-10-26   \n",
       "193318                     0                       0      0 2012-10-26   \n",
       "194457                     0                       0      0 2012-10-26   \n",
       "76593                      0                       0      1 2012-10-26   \n",
       "157477                     0                       0      1 2012-10-26   \n",
       "198657                     0                       0      1 2012-10-26   \n",
       "50708                      0                       0      1 2012-10-26   \n",
       "55158                      0                       0      1 2012-10-26   \n",
       "110924                     0                       0      1 2012-10-26   \n",
       "90340                      0                       0      1 2012-10-26   \n",
       "78920                      0                       0      1 2012-10-26   \n",
       "161316                     0                       0      1 2012-10-26   \n",
       "126261                     0                       0      1 2012-10-26   \n",
       "24496                      0                       0      0 2012-10-26   \n",
       "156339                     0                       0      1 2012-10-26   \n",
       "85745                      0                       0      1 2012-10-26   \n",
       "42269                      0                       0      1 2012-10-26   \n",
       "190494                     0                       0      0 2012-10-26   \n",
       "129636                     0                       0      1 2012-10-26   \n",
       "140932                     0                       0      1 2012-10-26   \n",
       "167615                     0                       0      1 2012-10-26   \n",
       "103237                     0                       0      1 2012-10-26   \n",
       "\n",
       "                                                  Summary  \\\n",
       "138706                          EVERY book is educational   \n",
       "138683  This whole series is great way to spend time w...   \n",
       "70688                              A sure death for flies   \n",
       "138001                                   Very easy to use   \n",
       "138000                                  Who Needs Wilton?   \n",
       "138018  Make your own Martha Stewart style cakes and c...   \n",
       "138020                               Nice, bright colors!   \n",
       "138682                                 It Was a favorite!   \n",
       "138691                    A great way to learn the months   \n",
       "138707  In December it will be, my snowman's anniversa...   \n",
       "138016                                             Great!   \n",
       "137933              This is the best Camper Van Beethoven   \n",
       "137934  Camper van Beethoven is the greatest rock band...   \n",
       "137929                                    Boxed Evolution   \n",
       "137935                                Never A Dull Moment   \n",
       "138015                        You will be happy with this   \n",
       "137930                      For a CVB fan, this is a gem.   \n",
       "138681                                  Can't explain why   \n",
       "178085                             Best Ice Cream Ever!!!   \n",
       "28087                            Best sugarless gum ever!   \n",
       "28086          I've chewed this gum many times, but used?   \n",
       "61299                                               Yummy   \n",
       "197136                 A Cheese the Whole Family Likes...   \n",
       "38889                          I gave up on other coffees   \n",
       "38888                    Five stars if you like Starbucks   \n",
       "10992                              The fruits of my labor   \n",
       "97546                                     *Yummy* *Spicy*   \n",
       "179643                              Stock Up On This Item   \n",
       "152809                        The Cheese Served In Heaven   \n",
       "96196                                    Excellent Sauce!   \n",
       "...                                                   ...   \n",
       "167376                                     No Consistency   \n",
       "101375                                     Tasty, but....   \n",
       "5259                                            DELICIOUS   \n",
       "76059                               Nice traditional chai   \n",
       "51204      Yuk! And who goes to Amazon to buy cereal?????   \n",
       "125271                    GOOD GLUTEN FREE BREAD STCK MIX   \n",
       "67928                                           Hint Fizz   \n",
       "159352          Good value but still borderline junk-food   \n",
       "179594                             Great for a Paleo diet   \n",
       "193318                TOXIC INGREDIENTS!  WILL RETURN....   \n",
       "194457                            Tasty but not truly raw   \n",
       "76593                                    One of the best!   \n",
       "157477                              Just what I expected!   \n",
       "198657                          Great product!!!!!!!!!!!!   \n",
       "50708                                            Not bad.   \n",
       "55158                                       Love this tea   \n",
       "110924                                  Love this stuff!!   \n",
       "90340                   The BEST fig spread on the market   \n",
       "78920                Great flavor - spicy but not too hot   \n",
       "161316                                             OMG!!!   \n",
       "126261                      Betty Crocker yellow cake mix   \n",
       "24496                                        Buyer beware   \n",
       "156339                         Hidden Springs Maple syrup   \n",
       "85745                                        Very pleased   \n",
       "42269                                     Great Irish Tea   \n",
       "190494                                    Not very tasty!   \n",
       "129636                                           Standard   \n",
       "140932                                            Gatorad   \n",
       "167615                                     Morning Coffee   \n",
       "103237  This product is great however the price of $9....   \n",
       "\n",
       "                                                     Text  \\\n",
       "138706  this witty little book makes my son laugh at l...   \n",
       "138683  I can remember seeing the show when it aired o...   \n",
       "70688   I bought a few of these after my apartment was...   \n",
       "138001  This are so much easier to use than the Wilson...   \n",
       "138000  I'm sick of scads of nasty toothpicks all over...   \n",
       "138018  I don't know why anyone would ever use those l...   \n",
       "138020  I bought these to decorate some dia de los mue...   \n",
       "138682  This was a favorite book of mine when I was a ...   \n",
       "138691  This is a book of poetry about the months of t...   \n",
       "138707  My daughter loves all the \"Really Rosie\" books...   \n",
       "138016  For those wondering, the bottles are each 3/4 ...   \n",
       "137933  This is a  beautiful repackaging of Camper Van...   \n",
       "137934  Well, maybe not &quot;the&quot; greatest, but ...   \n",
       "137929  Long live Camper Van Beethoven!! This is a ble...   \n",
       "137935  Finally, a collection of the best Camper Van B...   \n",
       "138015  I'm really glad I bought the Ateco 12-Color Fo...   \n",
       "137930  The notoriously out-of-print early albums of C...   \n",
       "138681  This book has been a favorite of mine since I ...   \n",
       "178085  As a kid this ice cream was a favorite treat. ...   \n",
       "28087   I love this stuff. It is sugar-free so it does...   \n",
       "28086   Nothing against the product, but it does bothe...   \n",
       "61299   If you've never tried Kona coffee, Aloha Islan...   \n",
       "197136  The description of a cross between cheddar and...   \n",
       "38889   The grocery store has all kinds of &quot;gourm...   \n",
       "38888   This blend is one of Starbucks' gentler blends...   \n",
       "10992   When chatchi's favorite afternoon treat became...   \n",
       "97546   Forget that store bought jerky.  Make your own...   \n",
       "179643  I usually purchase this item in smaller links ...   \n",
       "152809  This amazingly flavored cheese was at the top ...   \n",
       "96196   This sauce is excellent, and indeed spicy.  Th...   \n",
       "...                                                   ...   \n",
       "167376  I purchased the variety pack of Martinsons and...   \n",
       "101375  I don't know how they can label these as lenti...   \n",
       "5259    Purchased this product at a local store in NY ...   \n",
       "76059   I got hooked on this chai when I decided to gi...   \n",
       "51204   This stuff tasted like (insert favorite negati...   \n",
       "125271  Makes very good break sticks.. Also can be use...   \n",
       "67928   I love hint water so when I saw they offered h...   \n",
       "159352  I was very pleased to find these snacks at thi...   \n",
       "179594  I've been eating a strict Paleo eating diet fo...   \n",
       "193318  After reviewing the 3-star review on Amazon, I...   \n",
       "194457  These taste great and it's nice to see they've...   \n",
       "76593   I am recently new to the Keurig world.  I've t...   \n",
       "157477  I bought these in order to make vanilla and ka...   \n",
       "198657  price and quality are awesome!! Buy recommenda...   \n",
       "50708   These are small and very salty. The taste is g...   \n",
       "55158   This is a favorite of mine for using over ice....   \n",
       "110924  I Have been ordering this k cup cappucino drin...   \n",
       "90340   This is my go to spread when I serve a cheese ...   \n",
       "78920   I got some of this from a low sodium foods web...   \n",
       "161316  I just want to start off by saying that I am a...   \n",
       "126261  The Betty Crocker Gluten Free yellow cake mixe...   \n",
       "24496   Nespresso makes GREAT coffee and GREAT machine...   \n",
       "156339  This is one of the very finest maple syrups I ...   \n",
       "85745   Good price, good quality with convenience.  Fu...   \n",
       "42269   We recently returned from a wonderful three we...   \n",
       "190494  I love Arnold Plamer's and Starbucks has the b...   \n",
       "129636  It's not the best quince brand but it's fine.<...   \n",
       "140932  My husband loves this in a can! Can't find the...   \n",
       "167615  Great coffee at a good price. I'm a subscripti...   \n",
       "103237  This product is very good on all meat products...   \n",
       "\n",
       "                                              CleanedText  \n",
       "138706  witty little book makes son laugh loud recite ...  \n",
       "138683  remember seeing show aired television years ag...  \n",
       "70688   bought apartment infested fruit flies hours tr...  \n",
       "138001  much easier use wilson paste colors colors vib...  \n",
       "138000  sick scads nasty toothpicks counter tinting ic...  \n",
       "138018  not know anyone would ever use little liquid f...  \n",
       "138020  bought decorate dia de los muertos skulls icin...  \n",
       "138682  favorite book mine little girl would read time...  \n",
       "138691  book poetry months year goes month cute little...  \n",
       "138707  daughter loves really rosie books introduced r...  \n",
       "138016  wondering bottles oz gel food color vibrant am...  \n",
       "137933  beautiful repackaging camper van beethoven fir...  \n",
       "137934  well maybe not greatest one best set brings to...  \n",
       "137929  long live camper van beethoven blessing long t...  \n",
       "137935  finally collection best camper van beethoven a...  \n",
       "138015  really glad bought ateco food coloring kit fou...  \n",
       "137930  notoriously print early albums camper van beet...  \n",
       "138681  book favorite mine since able read one first i...  \n",
       "178085  kid ice cream favorite treat told highest milk...  \n",
       "28087   love stuff sugar free not rot gums tastes good...  \n",
       "28086   nothing product bother link top page buy used ...  \n",
       "61299   never tried kona coffee aloha island definitel...  \n",
       "197136  description cross cheddar parmesan completely ...  \n",
       "38889   grocery store kinds gourmet coffees laid one t...  \n",
       "38888   blend one starbucks gentler blends like taste ...  \n",
       "10992   chatchi favorite afternoon treat became myster...  \n",
       "97546   forget store bought jerky make premium jerky a...  \n",
       "179643  usually purchase item smaller links pound stas...  \n",
       "152809  amazingly flavored cheese top food triangle th...  \n",
       "96196   sauce excellent indeed spicy brand also makes ...  \n",
       "...                                                   ...  \n",
       "167376  purchased variety pack martinsons brown gold v...  \n",
       "101375  not know label lentils lentils third ingredien...  \n",
       "5259    purchased product local store ny kids love qui...  \n",
       "76059   got hooked chai decided give coffee still litt...  \n",
       "51204   stuff tasted like insert favorite negative adj...  \n",
       "125271  makes good break sticks also used pizza crust ...  \n",
       "67928   love hint water saw offered hint fizz try wors...  \n",
       "159352  pleased find snacks price vending machines aro...  \n",
       "179594  eating strict paleo eating diet nearly one yea...  \n",
       "193318  reviewing review amazon checked label containe...  \n",
       "194457  taste great nice see come naked seaweed withou...  \n",
       "76593   recently new keurig world tried handful flavor...  \n",
       "157477  bought order make vanilla kahlua christmas gif...  \n",
       "198657  price quality awesome buy recommendation order...  \n",
       "50708   small salty taste good strong good thing packa...  \n",
       "55158   favorite mine using ice even bought give chris...  \n",
       "110924  ordering k cup cappucino drink awhile never pr...  \n",
       "90340   go spread serve cheese platter goes well soft ...  \n",
       "78920   got low sodium foods website not believe much ...  \n",
       "161316  want start saying holiday fanatic love smells ...  \n",
       "126261  betty crocker gluten free yellow cake mixes de...  \n",
       "24496   nespresso makes great coffee great machines sw...  \n",
       "156339  one finest maple syrups ordered enjoyed bought...  \n",
       "85745   good price good quality convenience fully met ...  \n",
       "42269   recently returned wonderful three week excursi...  \n",
       "190494  love arnold plamer starbucks best black tea le...  \n",
       "129636  not best quince brand fine product arrived per...  \n",
       "140932  husband loves ca not find cans store shipped f...  \n",
       "167615  great coffee good price subscription buyer buy...  \n",
       "103237  product good meat products vegetables soups ri...  \n",
       "\n",
       "[100000 rows x 11 columns]"
      ]
     },
     "execution_count": 28,
     "metadata": {
      "tags": []
     },
     "output_type": "execute_result"
    }
   ],
   "source": [
    "#Sorting According to Time\n",
    "data[\"Time\"] = pd.to_datetime(data[\"Time\"], unit = \"s\")\n",
    "data = data.sort_values(by =\"Time\",axis=0, ascending=True, inplace=False, kind='quicksort', na_position='last')\n",
    "data"
   ]
  },
  {
   "cell_type": "code",
   "execution_count": 0,
   "metadata": {
    "colab": {},
    "colab_type": "code",
    "id": "06xWPOy_PAuK"
   },
   "outputs": [],
   "source": [
    "# this is for 100k points\n",
    "X=data['CleanedText']\n",
    "y=data['Score']"
   ]
  },
  {
   "cell_type": "code",
   "execution_count": 30,
   "metadata": {
    "colab": {
     "base_uri": "https://localhost:8080/",
     "height": 68
    },
    "colab_type": "code",
    "id": "F_hDy9x4PAvM",
    "outputId": "ed19c22e-248f-4deb-f0d4-5315a908f628"
   },
   "outputs": [
    {
     "name": "stdout",
     "output_type": "stream",
     "text": [
      "(46900,) (46900,)\n",
      "(23100,) (23100,)\n",
      "(30000,) (30000,)\n"
     ]
    }
   ],
   "source": [
    "from sklearn.model_selection import train_test_split\n",
    "X_train, x_test, y_train, y_test = train_test_split(X, y, test_size = 0.3) #random splitting\n",
    "X_train,X_cv,y_train,y_cv= train_test_split(X_train, y_train, test_size=0.33) # random splitting\n",
    "print(X_train.shape, y_train.shape)\n",
    "print(X_cv.shape, y_cv.shape)\n",
    "print(x_test.shape, y_test.shape)"
   ]
  },
  {
   "cell_type": "markdown",
   "metadata": {
    "colab_type": "text",
    "id": "lkJYvUoXPAva"
   },
   "source": [
    "## Bag of words"
   ]
  },
  {
   "cell_type": "code",
   "execution_count": 31,
   "metadata": {
    "colab": {
     "base_uri": "https://localhost:8080/",
     "height": 51
    },
    "colab_type": "code",
    "id": "0Vv2WjaWPAve",
    "outputId": "6b7a5a52-720e-49bd-e455-10c6460621ab"
   },
   "outputs": [
    {
     "data": {
      "text/plain": [
       "<46900x2000 sparse matrix of type '<class 'numpy.float64'>'\n",
       "\twith 1266382 stored elements in Compressed Sparse Row format>"
      ]
     },
     "execution_count": 31,
     "metadata": {
      "tags": []
     },
     "output_type": "execute_result"
    }
   ],
   "source": [
    "from sklearn.feature_extraction.text import CountVectorizer \n",
    "\n",
    "bow = CountVectorizer(binary=True,max_features=2000,dtype='float').fit(X_train)\n",
    "X_train_bow = bow.transform(X_train)\n",
    "X_train_bow"
   ]
  },
  {
   "cell_type": "code",
   "execution_count": 0,
   "metadata": {
    "colab": {},
    "colab_type": "code",
    "id": "KRblVwMTPAvt"
   },
   "outputs": [],
   "source": [
    "x_test_bow = bow.transform(x_test)\n",
    "X_cv_bow=bow.transform(X_cv)"
   ]
  },
  {
   "cell_type": "code",
   "execution_count": 33,
   "metadata": {
    "colab": {
     "base_uri": "https://localhost:8080/",
     "height": 68
    },
    "colab_type": "code",
    "id": "prZx_FoNXvMM",
    "outputId": "7a02c174-be7f-45f9-d490-0938acadefb8"
   },
   "outputs": [
    {
     "name": "stdout",
     "output_type": "stream",
     "text": [
      "After vectorizations\n",
      "(46900, 2000) (46900,)\n",
      "(23100, 2000) (23100,)\n"
     ]
    }
   ],
   "source": [
    "print(\"After vectorizations\")\n",
    "print(X_train_bow.shape, y_train.shape)\n",
    "print(X_cv_bow.shape, y_cv.shape)"
   ]
  },
  {
   "cell_type": "code",
   "execution_count": 0,
   "metadata": {
    "colab": {},
    "colab_type": "code",
    "id": "ZeuaHOCDPAv0"
   },
   "outputs": [],
   "source": [
    "from sklearn.naive_bayes import MultinomialNB\n",
    "from collections import Counter\n",
    "from sklearn import model_selection\n",
    "from sklearn.metrics import roc_auc_score\n",
    "from sklearn.metrics import confusion_matrix"
   ]
  },
  {
   "cell_type": "code",
   "execution_count": 35,
   "metadata": {
    "colab": {
     "base_uri": "https://localhost:8080/",
     "height": 294
    },
    "colab_type": "code",
    "id": "uYj2TYgCPAv7",
    "outputId": "13478c99-6b18-44a0-fbbe-18be2ec8ba37"
   },
   "outputs": [
    {
     "data": {
      "image/png": "[encoded data removed]",
      "text/plain": [
       "<Figure size 432x288 with 1 Axes>"
      ]
     },
     "metadata": {
      "tags": []
     },
     "output_type": "display_data"
    }
   ],
   "source": [
    "from pylab import scatter\n",
    "import pylab\n",
    "import math\n",
    "\n",
    "train_auc = []\n",
    "cv_auc = []\n",
    "K = [0.00001,0.00001,0.0001,0.001,0.01,0.1,1,10,100,1000,10000]\n",
    "for i in K:\n",
    "    neigh = MultinomialNB(alpha=i)\n",
    "    neigh =neigh.fit(X_train_bow, y_train)\n",
    "    y_train_pred =  neigh.predict_proba(X_train_bow)[:,1]\n",
    "    y_cv_pred =  neigh.predict_proba(X_cv_bow)[:,1]\n",
    "    \n",
    "    train_auc.append(roc_auc_score(y_train,y_train_pred))\n",
    "    cv_auc.append(roc_auc_score(y_cv, y_cv_pred))\n",
    "\n",
    "#plt.plot(np.log(K), train_auc, label='Train AUC')\n",
    "plt.plot(list(map(lambda x:math.log(x),K)), train_auc, label='Train AUC')\n",
    "plt.plot(list(map(lambda y:math.log(y),K)), cv_auc, label='CV AUC')\n",
    "#plt.plot(np.log(K), cv_auc, label='CV AUC')\n",
    "plt.legend()\n",
    "plt.xlabel(\"K: hyperparameter\")\n",
    "plt.ylabel(\"AUC\")\n",
    "plt.title(\"ERROR PLOTS\")\n",
    "plt.show()"
   ]
  },
  {
   "cell_type": "code",
   "execution_count": 36,
   "metadata": {
    "colab": {
     "base_uri": "https://localhost:8080/",
     "height": 102
    },
    "colab_type": "code",
    "id": "A0AMqAxysg8K",
    "outputId": "05be4a6b-3f94-4c8e-9aba-b9036d28b7e9"
   },
   "outputs": [
    {
     "name": "stdout",
     "output_type": "stream",
     "text": [
      "\n",
      "The optimal number of alpha is 0.000010.\n",
      "----------------------------------------------------------------------------------------------------\n",
      "\n",
      "The optimal number of alpha is 1.000000.\n"
     ]
    }
   ],
   "source": [
    "# determining best alpha using train score\n",
    "optimal_alpha = K[train_auc.index(max(train_auc))]\n",
    "print('\\nThe optimal number of alpha is %f.' % optimal_alpha)\n",
    "print('-'*100)\n",
    "\n",
    "#Test_Auc=[test_auc]\n",
    "# determining best alpha using test score(cv score)\n",
    "optimal_alpha1 = K[cv_auc.index(max(cv_auc))]\n",
    "print('\\nThe optimal number of alpha is %f.' % optimal_alpha1) # Using this as optimal alpha"
   ]
  },
  {
   "cell_type": "code",
   "execution_count": 37,
   "metadata": {
    "colab": {
     "base_uri": "https://localhost:8080/",
     "height": 34
    },
    "colab_type": "code",
    "id": "R4KsDUOrPAwT",
    "outputId": "00fba029-d48f-4a0a-886c-c0916d02ef2b"
   },
   "outputs": [
    {
     "data": {
      "text/plain": [
       "MultinomialNB(alpha=1, class_prior=None, fit_prior=True)"
      ]
     },
     "execution_count": 37,
     "metadata": {
      "tags": []
     },
     "output_type": "execute_result"
    }
   ],
   "source": [
    "# instantiate learning model alpha = optimal_alpha\n",
    "nb_optimal = MultinomialNB(alpha = optimal_alpha1)\n",
    "# fitting the model\n",
    "nb_optimal.fit(X_train_bow, y_train)"
   ]
  },
  {
   "cell_type": "code",
   "execution_count": 38,
   "metadata": {
    "colab": {
     "base_uri": "https://localhost:8080/",
     "height": 34
    },
    "colab_type": "code",
    "id": "d8gDgTwhPAwj",
    "outputId": "16cd6ed6-18cd-43f1-c395-98996ae56191"
   },
   "outputs": [
    {
     "data": {
      "text/plain": [
       "(2000, 2)"
      ]
     },
     "execution_count": 38,
     "metadata": {
      "tags": []
     },
     "output_type": "execute_result"
    }
   ],
   "source": [
    "# predict the response\n",
    "pred_bow = nb_optimal.predict(x_test_bow)\n",
    "\n",
    "\n",
    "bow_features = bow.get_feature_names() # To get all the features names\n",
    "\n",
    "# Empirical log probability of features given a class(i.e. P(x_i|y))\n",
    "log_prob = nb_optimal.feature_log_prob_\n",
    "\n",
    "feature_prob_bow = pd.DataFrame(log_prob, columns = bow_features)\n",
    "feature_prob_tr_bow = feature_prob_bow.T\n",
    "feature_prob_tr_bow.shape"
   ]
  },
  {
   "cell_type": "code",
   "execution_count": 39,
   "metadata": {
    "colab": {
     "base_uri": "https://localhost:8080/",
     "height": 459
    },
    "colab_type": "code",
    "id": "M-g9pJwzPAwu",
    "outputId": "0310a9e7-d1ff-4600-d548-944e5177b942"
   },
   "outputs": [
    {
     "name": "stdout",
     "output_type": "stream",
     "text": [
      "Top 10 Negative Features:-\n",
      " not       -3.633243\n",
      "like      -4.379963\n",
      "would     -4.538821\n",
      "taste     -4.631975\n",
      "product   -4.668898\n",
      "one       -4.771810\n",
      "good      -4.902883\n",
      "no        -5.020428\n",
      "flavor    -5.099758\n",
      "even      -5.182570\n",
      "Name: 0, dtype: float64\n",
      "\n",
      "\n",
      " Top 10 Positive Features:-\n",
      " not       -3.975045\n",
      "like      -4.540175\n",
      "good      -4.580392\n",
      "great     -4.593106\n",
      "one       -4.821001\n",
      "taste     -4.858651\n",
      "love      -4.877463\n",
      "would     -4.986180\n",
      "product   -4.991730\n",
      "flavor    -4.993680\n",
      "Name: 1, dtype: float64\n"
     ]
    }
   ],
   "source": [
    "# To show top 10 feature from both class\n",
    "# Feature Importance\n",
    "\n",
    "print(\"Top 10 Negative Features:-\\n\",(feature_prob_tr_bow[0]).sort_values(ascending = False)[0:10])\n",
    "\n",
    "print(\"\\n\\n Top 10 Positive Features:-\\n\",(feature_prob_tr_bow[1]).sort_values(ascending = False)[0:10])"
   ]
  },
  {
   "cell_type": "code",
   "execution_count": 40,
   "metadata": {
    "colab": {
     "base_uri": "https://localhost:8080/",
     "height": 51
    },
    "colab_type": "code",
    "id": "k8PF_D5rPAw5",
    "outputId": "28bc6f58-dbad-4c7c-f26a-73518a6523b1"
   },
   "outputs": [
    {
     "name": "stdout",
     "output_type": "stream",
     "text": [
      "\n",
      "The Test Auc of the naive bayes classifier for alpha = 1.000000 is 0.808721%\n"
     ]
    }
   ],
   "source": [
    "pred_bow1=nb_optimal.predict(X_train_bow)\n",
    "# evaluate accuracy on test data\n",
    "from sklearn.metrics import roc_auc_score\n",
    "auc_bow = roc_auc_score(y_test, pred_bow)\n",
    "print('\\nThe Test Auc of the naive bayes classifier for alpha = %f is %f%%' % (optimal_alpha1, auc_bow))"
   ]
  },
  {
   "cell_type": "code",
   "execution_count": 41,
   "metadata": {
    "colab": {
     "base_uri": "https://localhost:8080/",
     "height": 690
    },
    "colab_type": "code",
    "id": "t8Mi1sy5PAxF",
    "outputId": "78fe9471-853c-4135-e0ed-90851c26d971"
   },
   "outputs": [
    {
     "name": "stdout",
     "output_type": "stream",
     "text": [
      "[[ 3173  1524]\n",
      " [ 1470 23833]]\n",
      "   \n"
     ]
    },
    {
     "data": {
      "image/png": "[encoded data removed]",
      "text/plain": [
       "<Figure size 432x288 with 2 Axes>"
      ]
     },
     "metadata": {
      "tags": []
     },
     "output_type": "display_data"
    },
    {
     "name": "stdout",
     "output_type": "stream",
     "text": [
      "***************************************************************************\n",
      "[[ 5253  2212]\n",
      " [ 2216 37219]]\n",
      "   \n"
     ]
    },
    {
     "data": {
      "image/png": "[encoded data removed]",
      "text/plain": [
       "<Figure size 432x288 with 2 Axes>"
      ]
     },
     "metadata": {
      "tags": []
     },
     "output_type": "display_data"
    }
   ],
   "source": [
    "# Confusion Matrix\n",
    "from sklearn.metrics import confusion_matrix\n",
    "cm_bow = confusion_matrix(y_test, pred_bow)\n",
    "print(cm_bow)\n",
    "print('   ')\n",
    "# plotting confusion matrix to describe the performance of classifier.\n",
    "import seaborn as sns\n",
    "class_label = [\"negative\", \"positive\"]\n",
    "df_cm = pd.DataFrame(cm_bow, index = class_label, columns = class_label)\n",
    "sns.heatmap(df_cm, annot = True, fmt = \"d\")\n",
    "plt.title(\"Confusion Matrix\")\n",
    "plt.xlabel(\"Predicted Label\")\n",
    "plt.ylabel(\"True Label\")\n",
    "plt.show()\n",
    "\n",
    "print('***************************************************************************')\n",
    "\n",
    "cm_bow1 = confusion_matrix(y_train, pred_bow1)\n",
    "print(cm_bow1)\n",
    "print('   ')\n",
    "# plotting confusion matrix to describe the performance of classifier.\n",
    "import seaborn as sns\n",
    "class_label1 = [\"negative\", \"positive\"]\n",
    "df_cm1 = pd.DataFrame(cm_bow1, index = class_label1, columns = class_label1)\n",
    "sns.heatmap(df_cm1, annot = True, fmt = \"d\")\n",
    "plt.title(\"Confusion Matrix\")\n",
    "plt.xlabel(\"Predicted Label\")\n",
    "plt.ylabel(\"True Label\")\n",
    "plt.show()"
   ]
  },
  {
   "cell_type": "code",
   "execution_count": 42,
   "metadata": {
    "colab": {
     "base_uri": "https://localhost:8080/",
     "height": 51
    },
    "colab_type": "code",
    "id": "4SElp_3LaxIv",
    "outputId": "e1495cba-00e2-428b-f2ba-cbe063c31528"
   },
   "outputs": [
    {
     "name": "stdout",
     "output_type": "stream",
     "text": [
      "Tp , Tn , Fp , Fn\n"
     ]
    },
    {
     "data": {
      "text/plain": [
       "3173"
      ]
     },
     "execution_count": 42,
     "metadata": {
      "tags": []
     },
     "output_type": "execute_result"
    }
   ],
   "source": [
    "print(\"Tp , Tn , Fp , Fn\")\n",
    "confusion=cm_bow.ravel()\n",
    "confusion[0]"
   ]
  },
  {
   "cell_type": "code",
   "execution_count": 43,
   "metadata": {
    "colab": {
     "base_uri": "https://localhost:8080/",
     "height": 294
    },
    "colab_type": "code",
    "id": "SavQYQNPeQTg",
    "outputId": "a7cfb75e-f702-4f81-cc84-4a878edb6c33"
   },
   "outputs": [
    {
     "data": {
      "image/png": "[encoded data removed]",
      "text/plain": [
       "<Figure size 432x288 with 1 Axes>"
      ]
     },
     "metadata": {
      "tags": []
     },
     "output_type": "display_data"
    }
   ],
   "source": [
    "### Compute ROC curve and ROC area for predictions on validation set\n",
    "from sklearn import metrics\n",
    "y_test_predict =  nb_optimal.predict_proba(x_test_bow)[:,1]\n",
    "y_train_predict = nb_optimal.predict_proba(X_train_bow)[:,1]\n",
    "fpr1,tpr1,_ =  metrics.roc_curve(y_train,y_train_predict) \n",
    "fpr,tpr, _ = metrics.roc_curve(y_test,y_test_predict)\n",
    "\n",
    "roc_auc = auc(fpr, tpr) \n",
    "roc_auc1 = auc(fpr1,tpr1) \n",
    "### Plot\n",
    "plt.figure()\n",
    "lw = 3\n",
    "plt.plot(fpr, tpr, color='darkorange',\n",
    "         lw=lw, label='ROC curve_test (area = %0.2f)' % roc_auc)\n",
    "plt.plot(fpr1,tpr1, color='navy', lw=lw, linestyle='--',label='ROC curve_train (area = %0.2f)' % roc_auc1)\n",
    "plt.xlim([0.0, 1.0])\n",
    "plt.ylim([0.0, 1.05])\n",
    "plt.xlabel('False Positive Rate')\n",
    "plt.ylabel('True Positive Rate')\n",
    "plt.title('Roc_Auc curve')\n",
    "plt.legend()\n",
    "plt.show()"
   ]
  },
  {
   "cell_type": "code",
   "execution_count": 44,
   "metadata": {
    "colab": {
     "base_uri": "https://localhost:8080/",
     "height": 340
    },
    "colab_type": "code",
    "id": "9EZmgQw-PAxN",
    "outputId": "54c2b8f8-3a71-4a83-a823-efd38f6a4106"
   },
   "outputs": [
    {
     "name": "stdout",
     "output_type": "stream",
     "text": [
      "              precision    recall  f1-score   support\n",
      "\n",
      "           0       0.68      0.68      0.68      4697\n",
      "           1       0.94      0.94      0.94     25303\n",
      "\n",
      "   micro avg       0.90      0.90      0.90     30000\n",
      "   macro avg       0.81      0.81      0.81     30000\n",
      "weighted avg       0.90      0.90      0.90     30000\n",
      "\n",
      "****************************************************************************************************\n",
      "              precision    recall  f1-score   support\n",
      "\n",
      "           0       0.70      0.70      0.70      7465\n",
      "           1       0.94      0.94      0.94     39435\n",
      "\n",
      "   micro avg       0.91      0.91      0.91     46900\n",
      "   macro avg       0.82      0.82      0.82     46900\n",
      "weighted avg       0.91      0.91      0.91     46900\n",
      "\n"
     ]
    }
   ],
   "source": [
    "# To show main classification report\n",
    "from sklearn.metrics import classification_report\n",
    "print(classification_report(y_test, pred_bow))\n",
    "print('**'*50)\n",
    "print(classification_report(y_train, pred_bow1))"
   ]
  },
  {
   "cell_type": "markdown",
   "metadata": {
    "colab_type": "text",
    "id": "T-8jN5nwPAxY"
   },
   "source": [
    "## Tf-Idf"
   ]
  },
  {
   "cell_type": "code",
   "execution_count": 45,
   "metadata": {
    "colab": {
     "base_uri": "https://localhost:8080/",
     "height": 51
    },
    "colab_type": "code",
    "id": "4SdOI_tFPAxa",
    "outputId": "6a2d5a1f-efaf-440f-a585-2daaedebdeed"
   },
   "outputs": [
    {
     "data": {
      "text/plain": [
       "<46900x2000 sparse matrix of type '<class 'numpy.float64'>'\n",
       "\twith 1327263 stored elements in Compressed Sparse Row format>"
      ]
     },
     "execution_count": 45,
     "metadata": {
      "tags": []
     },
     "output_type": "execute_result"
    }
   ],
   "source": [
    "tf_idf_vect = TfidfVectorizer(min_df=10,max_features=2000 , ngram_range=(1,2)).fit(X_train)\n",
    "X_train_tfidf = tf_idf_vect.transform(X_train)\n",
    "X_train_tfidf"
   ]
  },
  {
   "cell_type": "code",
   "execution_count": 0,
   "metadata": {
    "colab": {},
    "colab_type": "code",
    "id": "b_yE2fRAPAxl"
   },
   "outputs": [],
   "source": [
    "# Convert test text data to its vectorizor\n",
    "x_test_tfidf = tf_idf_vect.transform(x_test)\n",
    "X_cv_tfidf=tf_idf_vect.transform(X_cv)"
   ]
  },
  {
   "cell_type": "code",
   "execution_count": 47,
   "metadata": {
    "colab": {
     "base_uri": "https://localhost:8080/",
     "height": 294
    },
    "colab_type": "code",
    "id": "wGPHcruMPAxu",
    "outputId": "ce8608ad-8a69-44c7-81f8-e933ab2094ee"
   },
   "outputs": [
    {
     "data": {
      "image/png": "[encoded data removed]",
      "text/plain": [
       "<Figure size 432x288 with 1 Axes>"
      ]
     },
     "metadata": {
      "tags": []
     },
     "output_type": "display_data"
    }
   ],
   "source": [
    "train_auc1 = []\n",
    "cv_auc1 = []\n",
    "K1 =  [0.00001,0.00001,0.0001,0.001,0.01,0.1,1,10,100,1000,10000]\n",
    "for j in K1:\n",
    "    neigh_tfidf= MultinomialNB(alpha=j)\n",
    "    neigh_tfidf.fit(X_train_tfidf, y_train)\n",
    "    y_train_pred_tfidf = neigh_tfidf.predict_proba(X_train_tfidf)[:,1]\n",
    "    y_cv_pred_tfidf =  neigh_tfidf.predict_proba(X_cv_tfidf)[:,1]\n",
    "    \n",
    "    train_auc1.append(roc_auc_score(y_train,y_train_pred_tfidf))\n",
    "    cv_auc1.append(roc_auc_score(y_cv, y_cv_pred_tfidf))\n",
    "\n",
    "plt.plot(list(map(lambda x:math.log(x),K1)), train_auc1, label='Train AUC')\n",
    "plt.plot(list(map(lambda y:math.log(y),K1)), cv_auc1, label='CV AUC')\n",
    "plt.legend()\n",
    "plt.xlabel(\"K: hyperparameter\")\n",
    "plt.ylabel(\"AUC\")\n",
    "plt.title(\"ERROR PLOTS\")\n",
    "plt.show()"
   ]
  },
  {
   "cell_type": "code",
   "execution_count": 48,
   "metadata": {
    "colab": {
     "base_uri": "https://localhost:8080/",
     "height": 102
    },
    "colab_type": "code",
    "id": "JpehScWr7iEO",
    "outputId": "1dfdf7bb-e6cd-4484-900a-8b3a1485836f"
   },
   "outputs": [
    {
     "name": "stdout",
     "output_type": "stream",
     "text": [
      "\n",
      "The optimal number of alpha is 0.000010.\n",
      "----------------------------------------------------------------------------------------------------\n",
      "\n",
      "The optimal number of alpha is 1.000000.\n"
     ]
    }
   ],
   "source": [
    "\n",
    "# determining best alpha\n",
    "optimal_alpha_tfidf = K1[train_auc1.index(max(train_auc1))]\n",
    "print('\\nThe optimal number of alpha is %f.' % optimal_alpha_tfidf)\n",
    "print('-'*100)\n",
    "# determining best alpha\n",
    "optimal_alpha1_tfidf = K1[cv_auc1.index(max(cv_auc1))]\n",
    "print('\\nThe optimal number of alpha is %f.' % optimal_alpha1_tfidf)"
   ]
  },
  {
   "cell_type": "code",
   "execution_count": 49,
   "metadata": {
    "colab": {
     "base_uri": "https://localhost:8080/",
     "height": 34
    },
    "colab_type": "code",
    "id": "35Rf5fUzPAx5",
    "outputId": "43c11aaf-8685-4af7-94d4-30ed15ae4209"
   },
   "outputs": [
    {
     "data": {
      "text/plain": [
       "MultinomialNB(alpha=1, class_prior=None, fit_prior=True)"
      ]
     },
     "execution_count": 49,
     "metadata": {
      "tags": []
     },
     "output_type": "execute_result"
    }
   ],
   "source": [
    "# instantiate learning model alpha = optimal_alpha\n",
    "nb_optimal_tfidf = MultinomialNB(alpha = optimal_alpha1_tfidf)\n",
    "nb_optimal_tfidf"
   ]
  },
  {
   "cell_type": "code",
   "execution_count": 0,
   "metadata": {
    "colab": {},
    "colab_type": "code",
    "id": "WBK-w9uuPAyC"
   },
   "outputs": [],
   "source": [
    "\n",
    "# fitting the model\n",
    "nb_optimal_tfidf.fit(X_train_tfidf, y_train)\n",
    "\n",
    "predict_tfidf = nb_optimal_tfidf.predict(x_test_tfidf)\n",
    "predict_tfidf1=nb_optimal_tfidf.predict(X_train_tfidf)"
   ]
  },
  {
   "cell_type": "code",
   "execution_count": 51,
   "metadata": {
    "colab": {
     "base_uri": "https://localhost:8080/",
     "height": 34
    },
    "colab_type": "code",
    "id": "T4fs9TGuPAyI",
    "outputId": "a3ab8062-28ab-4a29-b3a6-2e29b64e0224"
   },
   "outputs": [
    {
     "data": {
      "text/plain": [
       "(2000, 2)"
      ]
     },
     "execution_count": 51,
     "metadata": {
      "tags": []
     },
     "output_type": "execute_result"
    }
   ],
   "source": [
    "tfidf_features = tf_idf_vect.get_feature_names() # to get features \n",
    "\n",
    "# Empirical log probability of features given a class(i.e. P(x_i|y))\n",
    "\n",
    "log_prob_tfidf = nb_optimal_tfidf.feature_log_prob_\n",
    "\n",
    "feature_prob_tfidf = pd.DataFrame(log_prob_tfidf, columns = tfidf_features)\n",
    "feature_prob_tr_tfidf = feature_prob_tfidf.T\n",
    "feature_prob_tr_tfidf.shape"
   ]
  },
  {
   "cell_type": "code",
   "execution_count": 52,
   "metadata": {
    "colab": {
     "base_uri": "https://localhost:8080/",
     "height": 459
    },
    "colab_type": "code",
    "id": "81Qy7gaNPAyY",
    "outputId": "73fe0456-5f6a-49bc-c2b6-fa01e2ad355e"
   },
   "outputs": [
    {
     "name": "stdout",
     "output_type": "stream",
     "text": [
      "Top 10 Negative Features:-\n",
      " not       -4.089812\n",
      "like      -4.904663\n",
      "product   -4.963736\n",
      "would     -5.028867\n",
      "taste     -5.048430\n",
      "coffee    -5.226847\n",
      "one       -5.322172\n",
      "no        -5.468455\n",
      "flavor    -5.480638\n",
      "good      -5.550094\n",
      "Name: 0, dtype: float64\n",
      "\n",
      "\n",
      " Top 10 Positive Features:-\n",
      " not       -4.642950\n",
      "great     -4.984144\n",
      "good      -5.049081\n",
      "like      -5.104801\n",
      "coffee    -5.120633\n",
      "love      -5.206123\n",
      "tea       -5.247799\n",
      "product   -5.320564\n",
      "one       -5.335830\n",
      "taste     -5.347024\n",
      "Name: 1, dtype: float64\n"
     ]
    }
   ],
   "source": [
    "print(\"Top 10 Negative Features:-\\n\",feature_prob_tr_tfidf[0].sort_values(ascending = False)[0:10])\n",
    "\n",
    "print(\"\\n\\n Top 10 Positive Features:-\\n\",feature_prob_tr_tfidf[1].sort_values(ascending = False)[0:10])"
   ]
  },
  {
   "cell_type": "code",
   "execution_count": 53,
   "metadata": {
    "colab": {
     "base_uri": "https://localhost:8080/",
     "height": 51
    },
    "colab_type": "code",
    "id": "3Akt5cqVPAyf",
    "outputId": "cd3e7a12-abfe-40c8-a52f-6731b6d6b920"
   },
   "outputs": [
    {
     "name": "stdout",
     "output_type": "stream",
     "text": [
      "\n",
      "The Test Auc of the naive bayes classifier for alpha = 1.000000 is 0.623945%\n"
     ]
    }
   ],
   "source": [
    "auc_tfidf = roc_auc_score(y_test, predict_tfidf)\n",
    "print('\\nThe Test Auc of the naive bayes classifier for alpha = %f is %f%%' % (optimal_alpha1_tfidf, auc_tfidf))"
   ]
  },
  {
   "cell_type": "code",
   "execution_count": 54,
   "metadata": {
    "colab": {
     "base_uri": "https://localhost:8080/",
     "height": 724
    },
    "colab_type": "code",
    "id": "vXhSKpPMPAyl",
    "outputId": "57e331f2-dcb1-44a4-d978-ef8376b5cb7c"
   },
   "outputs": [
    {
     "name": "stdout",
     "output_type": "stream",
     "text": [
      "[[ 1179  3518]\n",
      " [   79 25224]]\n",
      "\n",
      "\n"
     ]
    },
    {
     "data": {
      "image/png": "[encoded data removed]",
      "text/plain": [
       "<Figure size 432x288 with 2 Axes>"
      ]
     },
     "metadata": {
      "tags": []
     },
     "output_type": "display_data"
    },
    {
     "name": "stdout",
     "output_type": "stream",
     "text": [
      "****************************************************************************************************\n",
      "[[ 1991  5474]\n",
      " [  114 39321]]\n",
      "\n",
      "\n"
     ]
    },
    {
     "data": {
      "image/png": "[encoded data removed]",
      "text/plain": [
       "<Figure size 432x288 with 2 Axes>"
      ]
     },
     "metadata": {
      "tags": []
     },
     "output_type": "display_data"
    }
   ],
   "source": [
    "from sklearn.metrics import confusion_matrix\n",
    "conf_matrix = confusion_matrix(y_test,predict_tfidf)\n",
    "print(conf_matrix)\n",
    "print('\\n')\n",
    "class_label_tfidf = [\"negative\", \"positive\"]\n",
    "df_cm_tfidf = pd.DataFrame(conf_matrix, index = class_label_tfidf, columns = class_label_tfidf)\n",
    "sns.heatmap(df_cm_tfidf, annot = True, fmt = \"d\")\n",
    "plt.title(\"Confusion Matrix\")\n",
    "plt.xlabel(\"Predicted Label\")\n",
    "plt.ylabel(\"True Label\")\n",
    "plt.show()\n",
    "print('**'*50)\n",
    "conf_matrix1 = confusion_matrix(y_train,predict_tfidf1)\n",
    "print(conf_matrix1)\n",
    "print('\\n')\n",
    "class_label_tfidf1 = [\"negative\", \"positive\"]\n",
    "df_cm_tfidf1 = pd.DataFrame(conf_matrix1, index = class_label_tfidf1, columns = class_label_tfidf1)\n",
    "sns.heatmap(df_cm_tfidf1, annot = True, fmt = \"d\")\n",
    "plt.title(\"Confusion Matrix\")\n",
    "plt.xlabel(\"Predicted Label\")\n",
    "plt.ylabel(\"True Label\")\n",
    "plt.show()"
   ]
  },
  {
   "cell_type": "code",
   "execution_count": 55,
   "metadata": {
    "colab": {
     "base_uri": "https://localhost:8080/",
     "height": 294
    },
    "colab_type": "code",
    "id": "iUBYIQ6gnTaY",
    "outputId": "f205a7a8-1d17-4c94-f805-1f742e8d8f78"
   },
   "outputs": [
    {
     "data": {
      "image/png": "[encoded data removed]",
      "text/plain": [
       "<Figure size 432x288 with 1 Axes>"
      ]
     },
     "metadata": {
      "tags": []
     },
     "output_type": "display_data"
    }
   ],
   "source": [
    "### Compute ROC curve and ROC area for predictions on validation set\n",
    "from sklearn import metrics\n",
    "y_test_predict_tfidf =  nb_optimal_tfidf.predict_proba(x_test_tfidf)[:,1]\n",
    "y_train_predict_tfidf =  nb_optimal_tfidf.predict_proba(X_train_tfidf)[:,1]\n",
    "fpr1_tfidf,tpr1_tfidf,_ =  metrics.roc_curve(y_train,y_train_predict_tfidf)\n",
    "fpr_tfidf,tpr_tfidf,_ = metrics.roc_curve(y_test, y_test_predict_tfidf) \n",
    "\n",
    "roc_auc_tfidf = auc(fpr_tfidf,tpr_tfidf) \n",
    "roc_auc1_tfidf = auc(fpr1_tfidf,tpr1_tfidf)\n",
    "### Plot\n",
    "plt.figure()\n",
    "lw = 3\n",
    "plt.plot(fpr_tfidf,tpr_tfidf, color='darkorange',\n",
    "         lw=lw, label='ROC curve_test (area = %0.2f)' % roc_auc_tfidf)\n",
    "plt.plot(fpr1_tfidf,tpr1_tfidf , color='navy', lw=lw, linestyle='--',label='ROC curve_train (area = %0.2f)' % roc_auc1_tfidf)\n",
    "plt.xlim([0.0, 1.0])\n",
    "plt.ylim([0.0, 1.05])\n",
    "plt.xlabel('False Positive Rate')\n",
    "plt.ylabel('True Positive Rate')\n",
    "plt.title('Roc_Auc curve')\n",
    "plt.legend()\n",
    "plt.show()"
   ]
  },
  {
   "cell_type": "code",
   "execution_count": 56,
   "metadata": {
    "colab": {
     "base_uri": "https://localhost:8080/",
     "height": 323
    },
    "colab_type": "code",
    "id": "8droXfU2PAyt",
    "outputId": "a412da1e-b791-4dd5-ead8-9edf08797b70"
   },
   "outputs": [
    {
     "name": "stdout",
     "output_type": "stream",
     "text": [
      "              precision    recall  f1-score   support\n",
      "\n",
      "           0       0.94      0.25      0.40      4697\n",
      "           1       0.88      1.00      0.93     25303\n",
      "\n",
      "   micro avg       0.88      0.88      0.88     30000\n",
      "   macro avg       0.91      0.62      0.66     30000\n",
      "weighted avg       0.89      0.88      0.85     30000\n",
      "\n",
      "              precision    recall  f1-score   support\n",
      "\n",
      "           0       0.95      0.27      0.42      7465\n",
      "           1       0.88      1.00      0.93     39435\n",
      "\n",
      "   micro avg       0.88      0.88      0.88     46900\n",
      "   macro avg       0.91      0.63      0.67     46900\n",
      "weighted avg       0.89      0.88      0.85     46900\n",
      "\n"
     ]
    }
   ],
   "source": [
    "from sklearn.metrics import classification_report\n",
    "print(classification_report(y_test, predict_tfidf))\n",
    "print(classification_report(y_train, predict_tfidf1))"
   ]
  },
  {
   "cell_type": "markdown",
   "metadata": {
    "colab_type": "text",
    "id": "gTXXBCmfIsjP"
   },
   "source": [
    " #### The final metric of Analysis for Navie bayes is clearly mentioned with above code and auc in below table."
   ]
  },
  {
   "cell_type": "raw",
   "metadata": {},
   "source": [
    "|--------|---------------|-------|----------------|\n",
    "|Model   | Featurization | AUC   | Optimal_Alpha  |\n",
    "|--------|---------------|-------|----------------|\n",
    "|        | Bag of Words  | 0.808 |   1            |\n",
    "|        |               |       |                |\n",
    "| Multi  |---------------|-------|----------------|\n",
    "|Nominal |TFIDF-vectorizr| 0.623 |    1           |\n",
    "|Navie   |               |       |                |\n",
    "|Bayes   |               |       |                |\n",
    "|--------|---------------|-------|----------------|"
   ]
  }
 ],
 "metadata": {
  "colab": {
   "collapsed_sections": [],
   "name": "Navie bayes assignment.ipynb",
   "provenance": [],
   "version": "0.3.2"
  },
  "kernelspec": {
   "display_name": "Python 3",
   "language": "python",
   "name": "python3"
  },
  "language_info": {
   "codemirror_mode": {
    "name": "ipython",
    "version": 3
   },
   "file_extension": ".py",
   "mimetype": "text/x-python",
   "name": "python",
   "nbconvert_exporter": "python",
   "pygments_lexer": "ipython3",
   "version": "3.6.5"
  }
 },
 "nbformat": 4,
 "nbformat_minor": 1
}
